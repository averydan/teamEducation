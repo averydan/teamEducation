{
 "cells": [
  {
   "cell_type": "code",
   "execution_count": 7,
   "metadata": {},
   "outputs": [],
   "source": [
    "import numpy as np\n",
    "import pandas as pd\n",
    "import matplotlib.pyplot as plt\n",
    "import scipy.stats as st\n",
    "from scipy.stats import linregress"
   ]
  },
  {
   "cell_type": "code",
   "execution_count": 8,
   "metadata": {},
   "outputs": [
    {
     "data": {
      "text/html": [
       "<div>\n",
       "<style scoped>\n",
       "    .dataframe tbody tr th:only-of-type {\n",
       "        vertical-align: middle;\n",
       "    }\n",
       "\n",
       "    .dataframe tbody tr th {\n",
       "        vertical-align: top;\n",
       "    }\n",
       "\n",
       "    .dataframe thead th {\n",
       "        text-align: right;\n",
       "    }\n",
       "</style>\n",
       "<table border=\"1\" class=\"dataframe\">\n",
       "  <thead>\n",
       "    <tr style=\"text-align: right;\">\n",
       "      <th></th>\n",
       "      <th>Corp ID</th>\n",
       "      <th>Corporate Name</th>\n",
       "      <th>Corp Grade 2015</th>\n",
       "    </tr>\n",
       "  </thead>\n",
       "  <tbody>\n",
       "    <tr>\n",
       "      <th>0</th>\n",
       "      <td>15</td>\n",
       "      <td>Adams Central Community Schools</td>\n",
       "      <td>C</td>\n",
       "    </tr>\n",
       "    <tr>\n",
       "      <th>1</th>\n",
       "      <td>5265</td>\n",
       "      <td>Alexandria Community School Corporation</td>\n",
       "      <td>C</td>\n",
       "    </tr>\n",
       "    <tr>\n",
       "      <th>2</th>\n",
       "      <td>5275</td>\n",
       "      <td>Anderson Community School Corporation</td>\n",
       "      <td>D</td>\n",
       "    </tr>\n",
       "    <tr>\n",
       "      <th>3</th>\n",
       "      <td>5470</td>\n",
       "      <td>Argos Community Schools</td>\n",
       "      <td>B</td>\n",
       "    </tr>\n",
       "    <tr>\n",
       "      <th>4</th>\n",
       "      <td>2435</td>\n",
       "      <td>Attica Consolidated School Corporation</td>\n",
       "      <td>D</td>\n",
       "    </tr>\n",
       "  </tbody>\n",
       "</table>\n",
       "</div>"
      ],
      "text/plain": [
       "   Corp ID                           Corporate Name Corp Grade 2015\n",
       "0       15          Adams Central Community Schools               C\n",
       "1     5265  Alexandria Community School Corporation               C\n",
       "2     5275    Anderson Community School Corporation               D\n",
       "3     5470                  Argos Community Schools               B\n",
       "4     2435   Attica Consolidated School Corporation               D"
      ]
     },
     "execution_count": 8,
     "metadata": {},
     "output_type": "execute_result"
    }
   ],
   "source": [
    "poverty_rate_df = pd.read_csv(\"Resources/combined_poverty_rate_revised.csv\")\n",
    "school_grade_15_df = pd.read_csv(\"Resources/schoolgrade2015_revised.csv\")\n",
    "school_grade_16_df = pd.read_csv(\"Resources/schoolgrade2016_revised.csv\")\n",
    "school_grade_17_df = pd.read_csv(\"Resources/schoolgrade2017_revised.csv\")\n",
    "school_grade_18_df = pd.read_csv(\"Resources/schoolgrade2018_revised.csv\")\n",
    "school_grade_19_df = pd.read_csv(\"Resources/schoolgrade2019_revised.csv\")\n",
    "school_grade_15_df.head()"
   ]
  },
  {
   "cell_type": "code",
   "execution_count": 47,
   "metadata": {},
   "outputs": [
    {
     "name": "stdout",
     "output_type": "stream",
     "text": [
      "The correlation coefficient between poverty rate and district grade is 0.55\n"
     ]
    },
    {
     "data": {
      "image/png": "[encoded data removed]",
      "text/plain": [
       "<Figure size 432x288 with 1 Axes>"
      ]
     },
     "metadata": {
      "needs_background": "light"
     },
     "output_type": "display_data"
    }
   ],
   "source": [
    "grade_list_15 = school_grade_15_df['Corp Grade 2015']\n",
    "num_list_15 = []\n",
    "letter_grade = ['','A','B','C','D','F']\n",
    "for grade in grade_list_15:\n",
    "    if grade == 'A':\n",
    "        num_list_15.append(1)\n",
    "    elif grade == 'B':\n",
    "        num_list_15.append(2)\n",
    "    elif grade == 'C':\n",
    "        num_list_15.append(3)\n",
    "    elif grade == 'D':\n",
    "        num_list_15.append(4)\n",
    "    elif grade == 'F':\n",
    "        num_list_15.append(5)\n",
    "        \n",
    "school_grade_15_df['Number'] = num_list_15\n",
    "unique = np.unique(letter_grade, return_inverse=True)\n",
    "grade_15 = school_grade_15_df['Number']\n",
    "pov_15 = poverty_rate_df['2015 Poverty Rate']\n",
    "\n",
    "# line regression for 2015 pov rate and grad rate.\n",
    "(slope, intercept, rvalue, pvalue, stderr) = linregress(grade_15,pov_15)\n",
    "regress_values = grade_15 * slope + intercept\n",
    "line_eq = \"y = \" + str(round(slope,2)) + \"x + \" + str(round(intercept,2))\n",
    "\n",
    "plt.scatter(grade_15,pov_15)\n",
    "plt.plot(grade_15,regress_values,\"r-\")\n",
    "plt.annotate(line_eq,(1,40),fontsize=15,color=\"red\")\n",
    "plt.xticks(range(len(letter_grade)), letter_grade)\n",
    "plt.xlim(.5, 5.5)\n",
    "\n",
    "plt.show\n",
    "\n",
    "print(f\"The correlation coefficient between poverty rate and district grade is {round(st.pearsonr(grade_15,pov_15)[0],2)}\")"
   ]
  },
  {
   "cell_type": "code",
   "execution_count": null,
   "metadata": {},
   "outputs": [],
   "source": []
  },
  {
   "cell_type": "code",
   "execution_count": null,
   "metadata": {},
   "outputs": [],
   "source": []
  }
 ],
 "metadata": {
  "kernelspec": {
   "display_name": "Python [conda env:PythonData] *",
   "language": "python",
   "name": "conda-env-PythonData-py"
  },
  "language_info": {
   "codemirror_mode": {
    "name": "ipython",
    "version": 3
   },
   "file_extension": ".py",
   "mimetype": "text/x-python",
   "name": "python",
   "nbconvert_exporter": "python",
   "pygments_lexer": "ipython3",
   "version": "3.6.10"
  }
 },
 "nbformat": 4,
 "nbformat_minor": 4
}
