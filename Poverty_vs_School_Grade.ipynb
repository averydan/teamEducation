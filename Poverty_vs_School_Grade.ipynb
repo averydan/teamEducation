{
 "cells": [
  {
   "cell_type": "code",
   "execution_count": 7,
   "metadata": {},
   "outputs": [],
   "source": [
    "import numpy as np\n",
    "import pandas as pd\n",
    "import matplotlib.pyplot as plt\n",
    "import scipy.stats as st\n",
    "from scipy.stats import linregress"
   ]
  },
  {
   "cell_type": "code",
   "execution_count": 68,
   "metadata": {},
   "outputs": [
    {
     "data": {
      "text/html": [
       "<div>\n",
       "<style scoped>\n",
       "    .dataframe tbody tr th:only-of-type {\n",
       "        vertical-align: middle;\n",
       "    }\n",
       "\n",
       "    .dataframe tbody tr th {\n",
       "        vertical-align: top;\n",
       "    }\n",
       "\n",
       "    .dataframe thead th {\n",
       "        text-align: right;\n",
       "    }\n",
       "</style>\n",
       "<table border=\"1\" class=\"dataframe\">\n",
       "  <thead>\n",
       "    <tr style=\"text-align: right;\">\n",
       "      <th></th>\n",
       "      <th>Corp ID</th>\n",
       "      <th>Corporate Name</th>\n",
       "      <th>Corp Grade 2016</th>\n",
       "    </tr>\n",
       "  </thead>\n",
       "  <tbody>\n",
       "    <tr>\n",
       "      <th>0</th>\n",
       "      <td>15</td>\n",
       "      <td>Adams Central Community Schools</td>\n",
       "      <td>B</td>\n",
       "    </tr>\n",
       "    <tr>\n",
       "      <th>1</th>\n",
       "      <td>5265</td>\n",
       "      <td>Alexandria Community School Corporation</td>\n",
       "      <td>C</td>\n",
       "    </tr>\n",
       "    <tr>\n",
       "      <th>2</th>\n",
       "      <td>5275</td>\n",
       "      <td>Anderson Community School Corporation</td>\n",
       "      <td>C</td>\n",
       "    </tr>\n",
       "    <tr>\n",
       "      <th>3</th>\n",
       "      <td>5470</td>\n",
       "      <td>Argos Community Schools</td>\n",
       "      <td>C</td>\n",
       "    </tr>\n",
       "    <tr>\n",
       "      <th>4</th>\n",
       "      <td>2435</td>\n",
       "      <td>Attica Consolidated School Corporation</td>\n",
       "      <td>C</td>\n",
       "    </tr>\n",
       "  </tbody>\n",
       "</table>\n",
       "</div>"
      ],
      "text/plain": [
       "   Corp ID                           Corporate Name Corp Grade 2016\n",
       "0       15          Adams Central Community Schools               B\n",
       "1     5265  Alexandria Community School Corporation               C\n",
       "2     5275    Anderson Community School Corporation               C\n",
       "3     5470                  Argos Community Schools               C\n",
       "4     2435   Attica Consolidated School Corporation               C"
      ]
     },
     "execution_count": 68,
     "metadata": {},
     "output_type": "execute_result"
    }
   ],
   "source": [
    "poverty_rate_df = pd.read_csv(\"Resources/combined_poverty_rate_revised.csv\")\n",
    "school_grade_15_df = pd.read_csv(\"Resources/schoolgrade2015_revised.csv\")\n",
    "school_grade_16_df = pd.read_csv(\"Resources/schoolgrade2016_revised.csv\")\n",
    "school_grade_17_df = pd.read_csv(\"Resources/schoolgrade2017_revised.csv\")\n",
    "school_grade_18_df = pd.read_csv(\"Resources/schoolgrade2018_revised.csv\")\n",
    "school_grade_19_df = pd.read_csv(\"Resources/schoolgrade2019_revised.csv\")\n",
    "school_grade_16_df.head()"
   ]
  },
  {
   "cell_type": "code",
   "execution_count": 69,
   "metadata": {},
   "outputs": [
    {
     "name": "stdout",
     "output_type": "stream",
     "text": [
      "The correlation coefficient between poverty rate and district grade is 0.55\n"
     ]
    },
    {
     "data": {
      "image/png": "[encoded data removed]",
      "text/plain": [
       "<Figure size 432x288 with 1 Axes>"
      ]
     },
     "metadata": {
      "needs_background": "light"
     },
     "output_type": "display_data"
    }
   ],
   "source": [
    "grade_list_15 = school_grade_15_df['Corp Grade 2015']\n",
    "num_list_15 = []\n",
    "letter_grade = ['','A','B','C','D','F']\n",
    "for grade in grade_list_15:\n",
    "    if grade == 'A':\n",
    "        num_list_15.append(1)\n",
    "    elif grade == 'B':\n",
    "        num_list_15.append(2)\n",
    "    elif grade == 'C':\n",
    "        num_list_15.append(3)\n",
    "    elif grade == 'D':\n",
    "        num_list_15.append(4)\n",
    "    elif grade == 'F':\n",
    "        num_list_15.append(5)\n",
    "        \n",
    "school_grade_15_df['Number'] = num_list_15\n",
    "unique = np.unique(letter_grade, return_inverse=True)\n",
    "grade_15 = school_grade_15_df['Number']\n",
    "pov_15 = poverty_rate_df['2015 Poverty Rate']\n",
    "\n",
    "# line regression for 2015 pov rate and grad rate.\n",
    "(slope, intercept, rvalue, pvalue, stderr) = linregress(grade_15,pov_15)\n",
    "regress_values = grade_15 * slope + intercept\n",
    "line_eq = \"y = \" + str(round(slope,2)) + \"x + \" + str(round(intercept,2))\n",
    "\n",
    "plt.scatter(grade_15,pov_15)\n",
    "plt.plot(grade_15,regress_values,\"r-\")\n",
    "plt.annotate(line_eq,(1,40),fontsize=15,color=\"red\")\n",
    "plt.xticks(range(len(letter_grade)), letter_grade)\n",
    "plt.xlim(.5, 5.5)\n",
    "\n",
    "plt.show\n",
    "\n",
    "print(f\"The correlation coefficient between poverty rate and district grade is {round(st.pearsonr(grade_15,pov_15)[0],2)}\")"
   ]
  },
  {
   "cell_type": "code",
   "execution_count": 70,
   "metadata": {},
   "outputs": [
    {
     "name": "stdout",
     "output_type": "stream",
     "text": [
      "The correlation coefficient between poverty rate and district grade is 0.58\n"
     ]
    },
    {
     "data": {
      "image/png": "[encoded data removed]",
      "text/plain": [
       "<Figure size 432x288 with 1 Axes>"
      ]
     },
     "metadata": {
      "needs_background": "light"
     },
     "output_type": "display_data"
    }
   ],
   "source": [
    "grade_list_16 = school_grade_16_df['Corp Grade 2016']\n",
    "num_list_16 = []\n",
    "letter_grade = ['','A','B','C','D','F']\n",
    "for grade in grade_list_16:\n",
    "    if grade == 'A':\n",
    "        num_list_16.append(1)\n",
    "    elif grade == 'B':\n",
    "        num_list_16.append(2)\n",
    "    elif grade == 'C':\n",
    "        num_list_16.append(3)\n",
    "    elif grade == 'D':\n",
    "        num_list_16.append(4)\n",
    "    elif grade == 'F':\n",
    "        num_list_16.append(5)\n",
    "        \n",
    "school_grade_16_df['Number'] = num_list_16\n",
    "unique = np.unique(letter_grade, return_inverse=True)\n",
    "grade_16 = school_grade_16_df['Number']\n",
    "pov_16 = poverty_rate_df['2016 Poverty Rate']\n",
    "\n",
    "# line regression for 2016 pov rate and grade rate.\n",
    "(slope, intercept, rvalue, pvalue, stderr) = linregress(grade_16,pov_16)\n",
    "regress_values = grade_16 * slope + intercept\n",
    "line_eq = \"y = \" + str(round(slope,2)) + \"x + \" + str(round(intercept,2))\n",
    "\n",
    "plt.scatter(grade_16,pov_16)\n",
    "plt.plot(grade_16,regress_values,\"r-\")\n",
    "plt.annotate(line_eq,(1,40),fontsize=15,color=\"red\")\n",
    "plt.xticks(range(len(letter_grade)), letter_grade)\n",
    "plt.xlim(.5, 5.5)\n",
    "\n",
    "plt.show\n",
    "\n",
    "print(f\"The correlation coefficient between poverty rate and district grade is {round(st.pearsonr(grade_16,pov_16)[0],2)}\")"
   ]
  },
  {
   "cell_type": "code",
   "execution_count": 104,
   "metadata": {},
   "outputs": [
    {
     "name": "stdout",
     "output_type": "stream",
     "text": [
      "The correlation coefficient between poverty rate and district grade is 0.61\n"
     ]
    },
    {
     "data": {
      "image/png": "[encoded data removed]",
      "text/plain": [
       "<Figure size 432x288 with 1 Axes>"
      ]
     },
     "metadata": {
      "needs_background": "light"
     },
     "output_type": "display_data"
    }
   ],
   "source": [
    "grade_list_17 = school_grade_17_df['Corp Grade 2017']\n",
    "num_list_17 = []\n",
    "letter_grade = ['','A','B','C','D','F']\n",
    "for grade in grade_list_17:\n",
    "    if grade == 'A':\n",
    "        num_list_17.append(1)\n",
    "    elif grade == 'B':\n",
    "        num_list_17.append(2)\n",
    "    elif grade == 'C':\n",
    "        num_list_17.append(3)\n",
    "    elif grade == 'D':\n",
    "        num_list_17.append(4)\n",
    "    elif grade == 'F':\n",
    "        num_list_17.append(5)\n",
    "    else:\n",
    "        num_list_17.append(np.NaN)\n",
    "        \n",
    "school_grade_17_df['Number'] = num_list_17\n",
    "\n",
    "grade_pov_df = pd.DataFrame({\n",
    "    'Corporation Name': poverty_rate_df['Corporation Name'],\n",
    "    'Poverty Rate': poverty_rate_df['2017 Poverty Rate'],\n",
    "    'Number': num_list_17\n",
    "})\n",
    "\n",
    "grade_pov_df = grade_pov_df.dropna()\n",
    "unique = np.unique(letter_grade, return_inverse=True)\n",
    "grade_17 = grade_pov_df['Number']\n",
    "pov_17 = grade_pov_df['Poverty Rate']\n",
    "\n",
    "# line regression for 2017 pov rate and grade rate.\n",
    "(slope, intercept, rvalue, pvalue, stderr) = linregress(grade_17,pov_17)\n",
    "regress_values = grade_17 * slope + intercept\n",
    "line_eq = \"y = \" + str(round(slope,2)) + \"x + \" + str(round(intercept,2))\n",
    "\n",
    "plt.scatter(grade_17,pov_17)\n",
    "plt.plot(grade_17,regress_values,\"r-\")\n",
    "plt.annotate(line_eq,(1,40),fontsize=15,color=\"red\")\n",
    "plt.xticks(range(len(letter_grade)), letter_grade)\n",
    "plt.xlim(.5, 5.5)\n",
    "\n",
    "plt.show\n",
    "\n",
    "print(f\"The correlation coefficient between poverty rate and district grade is {round(st.pearsonr(grade_17,pov_17)[0],2)}\")\n",
    "\n"
   ]
  },
  {
   "cell_type": "code",
   "execution_count": 105,
   "metadata": {},
   "outputs": [
    {
     "name": "stdout",
     "output_type": "stream",
     "text": [
      "The correlation coefficient between poverty rate and district grade is 0.61\n"
     ]
    },
    {
     "data": {
      "image/png": "[encoded data removed]",
      "text/plain": [
       "<Figure size 432x288 with 1 Axes>"
      ]
     },
     "metadata": {
      "needs_background": "light"
     },
     "output_type": "display_data"
    }
   ],
   "source": [
    "grade_list_18 = school_grade_18_df['Corp Grade 2018']\n",
    "num_list_18 = []\n",
    "letter_grade = ['','A','B','C','D','F']\n",
    "for grade in grade_list_18:\n",
    "    if grade == 'A':\n",
    "        num_list_18.append(1)\n",
    "    elif grade == 'B':\n",
    "        num_list_18.append(2)\n",
    "    elif grade == 'C':\n",
    "        num_list_18.append(3)\n",
    "    elif grade == 'D':\n",
    "        num_list_18.append(4)\n",
    "    elif grade == 'F':\n",
    "        num_list_18.append(5)\n",
    "    else:\n",
    "        num_list_18.append(np.NaN)\n",
    "        \n",
    "school_grade_18_df['Number'] = num_list_18\n",
    "\n",
    "grade_pov_df = pd.DataFrame({\n",
    "    'Corporation Name': poverty_rate_df['Corporation Name'],\n",
    "    'Poverty Rate': poverty_rate_df['2018 Poverty Rate'],\n",
    "    'Number': num_list_18\n",
    "})\n",
    "\n",
    "grade_pov_df = grade_pov_df.dropna()\n",
    "unique = np.unique(letter_grade, return_inverse=True)\n",
    "grade_18 = grade_pov_df['Number']\n",
    "pov_18 = grade_pov_df['Poverty Rate']\n",
    "\n",
    "# line regression for 2017 pov rate and grade rate.\n",
    "(slope, intercept, rvalue, pvalue, stderr) = linregress(grade_18,pov_18)\n",
    "regress_values = grade_18 * slope + intercept\n",
    "line_eq = \"y = \" + str(round(slope,2)) + \"x + \" + str(round(intercept,2))\n",
    "\n",
    "plt.scatter(grade_18,pov_18)\n",
    "plt.plot(grade_18,regress_values,\"r-\")\n",
    "plt.annotate(line_eq,(1,40),fontsize=15,color=\"red\")\n",
    "plt.xticks(range(len(letter_grade)), letter_grade)\n",
    "plt.xlim(.5, 5.5)\n",
    "\n",
    "plt.show\n",
    "\n",
    "print(f\"The correlation coefficient between poverty rate and district grade is {round(st.pearsonr(grade_18,pov_18)[0],2)}\")\n",
    "\n",
    "\n"
   ]
  },
  {
   "cell_type": "code",
   "execution_count": 106,
   "metadata": {},
   "outputs": [
    {
     "name": "stdout",
     "output_type": "stream",
     "text": [
      "The correlation coefficient between poverty rate and district grade is 0.58\n"
     ]
    },
    {
     "data": {
      "image/png": "[encoded data removed]",
      "text/plain": [
       "<Figure size 432x288 with 1 Axes>"
      ]
     },
     "metadata": {
      "needs_background": "light"
     },
     "output_type": "display_data"
    }
   ],
   "source": [
    "grade_list_19 = school_grade_19_df['Corp Grade 2019']\n",
    "num_list_19 = []\n",
    "letter_grade = ['','A','B','C','D','F']\n",
    "for grade in grade_list_19:\n",
    "    if grade == 'A':\n",
    "        num_list_19.append(1)\n",
    "    elif grade == 'B':\n",
    "        num_list_19.append(2)\n",
    "    elif grade == 'C':\n",
    "        num_list_19.append(3)\n",
    "    elif grade == 'D':\n",
    "        num_list_19.append(4)\n",
    "    elif grade == 'F':\n",
    "        num_list_19.append(5)\n",
    "    else:\n",
    "        num_list_19.append(np.NaN)\n",
    "        \n",
    "school_grade_19_df['Number'] = num_list_19\n",
    "\n",
    "grade_pov_df = pd.DataFrame({\n",
    "    'Corporation Name': poverty_rate_df['Corporation Name'],\n",
    "    'Poverty Rate': poverty_rate_df['2019 Poverty Rate'],\n",
    "    'Number': num_list_19\n",
    "})\n",
    "\n",
    "grade_pov_df = grade_pov_df.dropna()\n",
    "unique = np.unique(letter_grade, return_inverse=True)\n",
    "grade_19 = grade_pov_df['Number']\n",
    "pov_19 = grade_pov_df['Poverty Rate']\n",
    "\n",
    "# line regression for 2017 pov rate and grade rate.\n",
    "(slope, intercept, rvalue, pvalue, stderr) = linregress(grade_19,pov_19)\n",
    "regress_values = grade_19 * slope + intercept\n",
    "line_eq = \"y = \" + str(round(slope,2)) + \"x + \" + str(round(intercept,2))\n",
    "\n",
    "plt.scatter(grade_19,pov_19)\n",
    "plt.plot(grade_19,regress_values,\"r-\")\n",
    "plt.annotate(line_eq,(1,40),fontsize=15,color=\"red\")\n",
    "plt.xticks(range(len(letter_grade)), letter_grade)\n",
    "plt.xlim(.5, 5.5)\n",
    "\n",
    "plt.show\n",
    "\n",
    "print(f\"The correlation coefficient between poverty rate and district grade is {round(st.pearsonr(grade_19,pov_19)[0],2)}\")\n",
    "\n",
    "\n"
   ]
  },
  {
   "cell_type": "code",
   "execution_count": null,
   "metadata": {},
   "outputs": [],
   "source": []
  }
 ],
 "metadata": {
  "kernelspec": {
   "display_name": "Python [conda env:PythonData] *",
   "language": "python",
   "name": "conda-env-PythonData-py"
  },
  "language_info": {
   "codemirror_mode": {
    "name": "ipython",
    "version": 3
   },
   "file_extension": ".py",
   "mimetype": "text/x-python",
   "name": "python",
   "nbconvert_exporter": "python",
   "pygments_lexer": "ipython3",
   "version": "3.6.10"
  }
 },
 "nbformat": 4,
 "nbformat_minor": 4
}
