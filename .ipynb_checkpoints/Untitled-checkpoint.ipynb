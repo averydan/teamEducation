{
 "cells": [
  {
   "cell_type": "markdown",
   "metadata": {},
   "source": [
    "# Indiana High School Graduation Rates Study"
   ]
  },
  {
   "cell_type": "markdown",
   "metadata": {},
   "source": [
    "This study digs into the graduation rates in Indiana high schools by separating out those students who received diplomas verses those who received waivers. We'll examine the relationships between diploma rates and federal school grade; diploma rates and school size; diploma rates and school attendance; and any trends and outliers that appear in the data."
   ]
  },
  {
   "cell_type": "code",
   "execution_count": 1,
   "metadata": {},
   "outputs": [],
   "source": [
    "#Dependencies\n",
    "import pandas as pd\n"
   ]
  },
  {
   "cell_type": "code",
   "execution_count": 2,
   "metadata": {},
   "outputs": [
    {
     "name": "stdout",
     "output_type": "stream",
     "text": [
      "Requirement already satisfied: xlrd in c:\\users\\hope\\anaconda3\\envs\\pythondata\\lib\\site-packages (2.0.1)\n"
     ]
    }
   ],
   "source": [
    "# This install is needed for the pd.read_excel to work.\n",
    "!pip install xlrd"
   ]
  },
  {
   "cell_type": "code",
   "execution_count": 3,
   "metadata": {},
   "outputs": [],
   "source": [
    "# Save file path to Excel files\n",
    "path_poverty = ('Resources/ussd17.xls')\n",
    "path_in_schools = ('Resources/2017-graduation-rate-04-17-2018-publication (3).csv')"
   ]
  },
  {
   "cell_type": "code",
   "execution_count": 4,
   "metadata": {},
   "outputs": [
    {
     "name": "stdout",
     "output_type": "stream",
     "text": [
      "<bound method NDFrame.head of                       Table with column headers in row 3       Unnamed: 1  \\\n",
      "0      2017 Poverty Estimates for School districts   ...              NaN   \n",
      "1                                      State Postal Code  State FIPS Code   \n",
      "2                                                     AL               01   \n",
      "3                                                     AL               01   \n",
      "4                                                     AL               01   \n",
      "...                                                  ...              ...   \n",
      "13220                                                 WY               56   \n",
      "13221                                                 WY               56   \n",
      "13222                                                 WY               56   \n",
      "13223                                                 WY               56   \n",
      "13224                                                 PR               72   \n",
      "\n",
      "        Unnamed: 2                           Unnamed: 3  \\\n",
      "0              NaN                                  NaN   \n",
      "1      District ID                                 Name   \n",
      "2            00190       Alabaster City School District   \n",
      "3            00005     Albertville City School District   \n",
      "4            00030  Alexander City City School District   \n",
      "...            ...                                  ...   \n",
      "13220        06240    Washakie County School District 1   \n",
      "13221        05820    Washakie County School District 2   \n",
      "13222        04830      Weston County School District 1   \n",
      "13223        06090      Weston County School District 7   \n",
      "13224        00030                          Puerto Rico   \n",
      "\n",
      "                       Unnamed: 4                 Unnamed: 5  \\\n",
      "0                             NaN                        NaN   \n",
      "1      Estimated Total Population  Estimated Population 5-17   \n",
      "2                           34015                       6703   \n",
      "3                           21786                       4115   \n",
      "4                           17073                       2659   \n",
      "...                           ...                        ...   \n",
      "13220                        7372                       1382   \n",
      "13221                         692                         96   \n",
      "13222                        5465                        811   \n",
      "13223                        1462                        247   \n",
      "13224                     3337177                     508826   \n",
      "\n",
      "                                              Unnamed: 6  \n",
      "0                                                    NaN  \n",
      "1      Estimated number of relevant children 5 to 17 ...  \n",
      "2                                                    860  \n",
      "3                                                   1546  \n",
      "4                                                    832  \n",
      "...                                                  ...  \n",
      "13220                                                181  \n",
      "13221                                                  4  \n",
      "13222                                                118  \n",
      "13223                                                 12  \n",
      "13224                                             282524  \n",
      "\n",
      "[13225 rows x 7 columns]>\n"
     ]
    }
   ],
   "source": [
    "# to read Excel on poverty in US school districts file from census.gov\n",
    "poverty_df = pd.read_excel(path_poverty)\n",
    "print (poverty_df.head)  "
   ]
  },
  {
   "cell_type": "code",
   "execution_count": 5,
   "metadata": {},
   "outputs": [
    {
     "name": "stdout",
     "output_type": "stream",
     "text": [
      "                                Student Demographic  Cohort Count*  Graduates  \\\n",
      "0                                   American Indian           200        159    \n",
      "1                                             Asian         1,877      1,652    \n",
      "2                                             Black         9,615      7,487    \n",
      "3                                          Hispanic         7,682      6,397    \n",
      "4                                       Multiracial         3,203      2,695    \n",
      "5         Native Hawaiian or Other Pacific Islander            54         45    \n",
      "6                                             White        59,223     52,931    \n",
      "7                                        Paid Meals        49,992     47,237    \n",
      "8                          Free/Reduced Price Meals        28,473     23,662    \n",
      "9                                 General Education        70,604     64,525    \n",
      "10                                Special Education         9,472      6,793    \n",
      "11                     Non-English Language Learner        78,535     70,382    \n",
      "12                         English Language Learner         1,541        936    \n",
      "13                                           Female        41,040     36,413    \n",
      "14                                             Male        40,814     34,953    \n",
      "15                                              NaN            NaN        NaN   \n",
      "16                                              NaN            NaN        NaN   \n",
      "17                               School Demographic  Cohort Count*  Graduates   \n",
      "18                                           Public        77,061     66,988    \n",
      "19                                       Non-Public         4,793      4,378    \n",
      "20                                            Total        81,854     71,366    \n",
      "21                                              NaN            NaN        NaN   \n",
      "22  *Totals may not match due to \"Unknown\" students            NaN        NaN   \n",
      "\n",
      "    2017 Graduation Rate  Unnamed: 4  \n",
      "0                 79.50%         NaN  \n",
      "1                 88.01%         NaN  \n",
      "2                 77.89%         NaN  \n",
      "3                 83.29%         NaN  \n",
      "4                 84.14%         NaN  \n",
      "5                 83.33%         NaN  \n",
      "6                 89.38%         NaN  \n",
      "7                 94.49%         NaN  \n",
      "8                 83.10%         NaN  \n",
      "9                 91.39%         NaN  \n",
      "10                71.72%         NaN  \n",
      "11                89.62%         NaN  \n",
      "12                60.74%         NaN  \n",
      "13                88.73%         NaN  \n",
      "14                85.64%         NaN  \n",
      "15                   NaN         NaN  \n",
      "16                   NaN         NaN  \n",
      "17  2017 Graduation Rate         NaN  \n",
      "18                86.93%         NaN  \n",
      "19                91.34%         NaN  \n",
      "20                87.19%         NaN  \n",
      "21                   NaN         NaN  \n",
      "22                   NaN         NaN  \n"
     ]
    }
   ],
   "source": [
    "# xlsx file for Indiana High Schools from doe.gov.in was not reading. I saved first page of workbook\n",
    "# as a csv file. Seems to work.\n",
    "\n",
    "in_schools_df = pd.read_csv(path_in_schools)\n",
    "print(in_schools_df) \n"
   ]
  },
  {
   "cell_type": "code",
   "execution_count": null,
   "metadata": {},
   "outputs": [],
   "source": []
  }
 ],
 "metadata": {
  "kernelspec": {
   "display_name": "Python [conda env:PythonData] *",
   "language": "python",
   "name": "conda-env-PythonData-py"
  },
  "language_info": {
   "codemirror_mode": {
    "name": "ipython",
    "version": 3
   },
   "file_extension": ".py",
   "mimetype": "text/x-python",
   "name": "python",
   "nbconvert_exporter": "python",
   "pygments_lexer": "ipython3",
   "version": "3.6.10"
  }
 },
 "nbformat": 4,
 "nbformat_minor": 4
}
