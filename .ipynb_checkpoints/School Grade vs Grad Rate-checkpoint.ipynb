{
 "cells": [
  {
   "cell_type": "markdown",
   "metadata": {},
   "source": [
    "# Indiana School Corporation Grades vs. Graducation Rates "
   ]
  },
  {
   "cell_type": "code",
   "execution_count": 2,
   "metadata": {},
   "outputs": [],
   "source": [
    "# Import dependancies\n",
    "import numpy as np\n",
    "import pandas as pd\n",
    "import matplotlib.pyplot as plt\n",
    "import scipy.stats as st\n",
    "from scipy.stats import linregress"
   ]
  },
  {
   "cell_type": "code",
   "execution_count": 3,
   "metadata": {
    "scrolled": true
   },
   "outputs": [
    {
     "data": {
      "text/html": [
       "<div>\n",
       "<style scoped>\n",
       "    .dataframe tbody tr th:only-of-type {\n",
       "        vertical-align: middle;\n",
       "    }\n",
       "\n",
       "    .dataframe tbody tr th {\n",
       "        vertical-align: top;\n",
       "    }\n",
       "\n",
       "    .dataframe thead th {\n",
       "        text-align: right;\n",
       "    }\n",
       "</style>\n",
       "<table border=\"1\" class=\"dataframe\">\n",
       "  <thead>\n",
       "    <tr style=\"text-align: right;\">\n",
       "      <th></th>\n",
       "      <th>Corp ID</th>\n",
       "      <th>Corporate Name</th>\n",
       "      <th>Corp Grade 2015</th>\n",
       "    </tr>\n",
       "  </thead>\n",
       "  <tbody>\n",
       "    <tr>\n",
       "      <th>0</th>\n",
       "      <td>15</td>\n",
       "      <td>Adams Central Community Schools</td>\n",
       "      <td>C</td>\n",
       "    </tr>\n",
       "    <tr>\n",
       "      <th>1</th>\n",
       "      <td>5265</td>\n",
       "      <td>Alexandria Community School Corporation</td>\n",
       "      <td>C</td>\n",
       "    </tr>\n",
       "    <tr>\n",
       "      <th>2</th>\n",
       "      <td>5275</td>\n",
       "      <td>Anderson Community School Corporation</td>\n",
       "      <td>D</td>\n",
       "    </tr>\n",
       "    <tr>\n",
       "      <th>3</th>\n",
       "      <td>5470</td>\n",
       "      <td>Argos Community Schools</td>\n",
       "      <td>B</td>\n",
       "    </tr>\n",
       "    <tr>\n",
       "      <th>4</th>\n",
       "      <td>2435</td>\n",
       "      <td>Attica Consolidated School Corporation</td>\n",
       "      <td>D</td>\n",
       "    </tr>\n",
       "  </tbody>\n",
       "</table>\n",
       "</div>"
      ],
      "text/plain": [
       "   Corp ID                           Corporate Name Corp Grade 2015\n",
       "0       15          Adams Central Community Schools               C\n",
       "1     5265  Alexandria Community School Corporation               C\n",
       "2     5275    Anderson Community School Corporation               D\n",
       "3     5470                  Argos Community Schools               B\n",
       "4     2435   Attica Consolidated School Corporation               D"
      ]
     },
     "execution_count": 3,
     "metadata": {},
     "output_type": "execute_result"
    }
   ],
   "source": [
    "# Read in school grade files for each year\n",
    "schoolgrade2015 = pd.read_csv('Resources/schoolgrade2015_revised.csv')\n",
    "schoolgrade2016 = pd.read_csv('Resources/schoolgrade2016_revised.csv')\n",
    "schoolgrade2017 = pd.read_csv('Resources/schoolgrade2017_revised.csv')\n",
    "schoolgrade2018 = pd.read_csv('Resources/schoolgrade2018_revised.csv')\n",
    "schoolgrade2019 = pd.read_csv('Resources/schoolgrade2019_revised.csv')\n",
    "schoolgrade2015.head()"
   ]
  },
  {
   "cell_type": "markdown",
   "metadata": {},
   "source": [
    "## Visualize the portion of schools in each letter grade over time.  "
   ]
  },
  {
   "cell_type": "code",
   "execution_count": 6,
   "metadata": {
    "scrolled": true
   },
   "outputs": [
    {
     "data": {
      "text/plain": [
       "C    103\n",
       "D     85\n",
       "B     38\n",
       "A     31\n",
       "F     11\n",
       "Name: Corp Grade 2015, dtype: int64"
      ]
     },
     "execution_count": 6,
     "metadata": {},
     "output_type": "execute_result"
    }
   ],
   "source": [
    "# 2015 School corp letter grade data looks good.\n",
    "gradecount2015 = schoolgrade2015['Corp Grade 2015'].value_counts()\n",
    "gradecount2015"
   ]
  },
  {
   "cell_type": "code",
   "execution_count": 7,
   "metadata": {},
   "outputs": [
    {
     "data": {
      "text/plain": [
       "B    166\n",
       "C     75\n",
       "A     21\n",
       "D      5\n",
       "F      1\n",
       "Name: Corp Grade 2016, dtype: int64"
      ]
     },
     "execution_count": 7,
     "metadata": {},
     "output_type": "execute_result"
    }
   ],
   "source": [
    "# 2016 School corp letter grade data looks good.\n",
    "gradecount2016 = schoolgrade2016['Corp Grade 2016'].value_counts()\n",
    "gradecount2016"
   ]
  },
  {
   "cell_type": "code",
   "execution_count": 8,
   "metadata": {
    "scrolled": false
   },
   "outputs": [
    {
     "data": {
      "text/plain": [
       "B    149\n",
       "C     64\n",
       "A     46\n",
       "D      7\n",
       "F      1\n",
       "Name: Corp Grade 2017, dtype: int64"
      ]
     },
     "execution_count": 8,
     "metadata": {},
     "output_type": "execute_result"
    }
   ],
   "source": [
    "# 2017: need to make \"Appeal Pending\" data null\n",
    "schoolgrade2017['Corp Grade 2017'].value_counts()\n",
    "\n",
    "# Marking \"Appeal Pending\" data null worked!!!\n",
    "schoolgrade2017.loc[schoolgrade2017['Corp Grade 2017'] == 'Appeal Pending', :] = np.nan\n",
    "gradecount2017 = schoolgrade2017['Corp Grade 2017'].value_counts()\n",
    "gradecount2017"
   ]
  },
  {
   "cell_type": "code",
   "execution_count": 9,
   "metadata": {
    "scrolled": false
   },
   "outputs": [
    {
     "data": {
      "text/plain": [
       "B    143\n",
       "C     62\n",
       "A     44\n",
       "D      3\n",
       "F      1\n",
       "Name: Corp Grade 2018, dtype: int64"
      ]
     },
     "execution_count": 9,
     "metadata": {},
     "output_type": "execute_result"
    }
   ],
   "source": [
    "# 2018: need to make \"Appeal Pending\" data null\n",
    "schoolgrade2018['Corp Grade 2018'].value_counts()\n",
    "\n",
    "# Marking \"Appeal Pending\" data null worked!!!\n",
    "schoolgrade2018.loc[schoolgrade2018['Corp Grade 2018'] == 'Appeal Pending', :] = np.nan\n",
    "gradecount2018 = schoolgrade2018['Corp Grade 2018'].value_counts()\n",
    "gradecount2018"
   ]
  },
  {
   "cell_type": "code",
   "execution_count": 10,
   "metadata": {
    "scrolled": false
   },
   "outputs": [
    {
     "data": {
      "text/plain": [
       "B    149\n",
       "C     62\n",
       "A     45\n",
       "F      2\n",
       "D      2\n",
       "Name: Corp Grade 2019, dtype: int64"
      ]
     },
     "execution_count": 10,
     "metadata": {},
     "output_type": "execute_result"
    }
   ],
   "source": [
    "# 2019: need to make \"Appeal Pending\" AND \"No Grade\" data null\n",
    "schoolgrade2019['Corp Grade 2019'].value_counts()\n",
    "\n",
    "# Marking \"Appeal Pending\" data null worked!!!\n",
    "schoolgrade2019.loc[schoolgrade2019['Corp Grade 2019'] == 'Appeal Pending', :] = np.nan\n",
    "schoolgrade2019.loc[schoolgrade2019['Corp Grade 2019'] == 'No Grade', :] = np.nan\n",
    "\n",
    "gradecount2019 = schoolgrade2019['Corp Grade 2019'].value_counts()\n",
    "gradecount2019"
   ]
  },
  {
   "cell_type": "code",
   "execution_count": 13,
   "metadata": {},
   "outputs": [
    {
     "data": {
      "image/png": "[encoded data removed]",
      "text/plain": [
       "<Figure size 432x288 with 1 Axes>"
      ]
     },
     "metadata": {
      "needs_background": "light"
     },
     "output_type": "display_data"
    }
   ],
   "source": [
    "# Show school grade over years in Multi line graph\n",
    "grades = ['A', 'B', 'C', 'D', 'F']\n",
    "\n",
    "# Plot school corp grade count for each year\n",
    "plt.plot(grades, gradecount2015, color=\"blue\", label=\"2015\" )\n",
    "\n",
    "plt.plot(grades, gradecount2016, color=\"lightblue\",label=\"2016\")\n",
    "\n",
    "plt.plot(grades, gradecount2017, color=\"green\", label=\"2017\" )\n",
    "\n",
    "plt.plot(grades, gradecount2018, color=\"gold\", label=\"2018\" )\n",
    "\n",
    "plt.plot(grades, gradecount2019, color=\"red\", label=\"2019\" )\n",
    "\n",
    "# Create a legend for our chart\n",
    "plt.legend()\n",
    "\n",
    "plt.title(\"Number of Schools in each Letter Grade\", fontsize=16, fontweight='bold')\n",
    "plt.xlabel(\"Number of Schools\")\n",
    "plt.ylabel(\"School Letter Grade\")\n",
    "\n",
    "# Show the chart\n",
    "plt.show()"
   ]
  },
  {
   "cell_type": "code",
   "execution_count": 15,
   "metadata": {
    "scrolled": true
   },
   "outputs": [
    {
     "data": {
      "image/png": "[encoded data removed]",
      "text/plain": [
       "<Figure size 432x288 with 1 Axes>"
      ]
     },
     "metadata": {},
     "output_type": "display_data"
    }
   ],
   "source": [
    "# Pie Chart of School Corp Grade Percentages 2015\n",
    "\n",
    "colors = [\"yellowgreen\", \"red\", \"lightcoral\", \"lightskyblue\", \"gold\"]\n",
    "explode = (0, 0.05, 0, 0)\n",
    "labels = ['A', 'B', 'C', 'D', 'F']\n",
    "\n",
    "\n",
    "plt.title(\"School Corp Grade Percentatges 2015\")\n",
    "plt.pie(gradecount2015, labels=labels, colors=colors,\n",
    "        autopct=\"%1.1f%%\", shadow=True, startangle=90)\n",
    "plt.axis(\"equal\")\n",
    "plt.show()"
   ]
  },
  {
   "cell_type": "code",
   "execution_count": 16,
   "metadata": {},
   "outputs": [
    {
     "data": {
      "image/png": "[encoded data removed]",
      "text/plain": [
       "<Figure size 432x288 with 1 Axes>"
      ]
     },
     "metadata": {},
     "output_type": "display_data"
    }
   ],
   "source": [
    "# Pie Chart of School Corp Grade Percentages 2016\n",
    "colors = [\"yellowgreen\", \"red\", \"lightcoral\", \"lightskyblue\", \"gold\"]\n",
    "explode = (0, 0.05, 0, 0)\n",
    "labels = ['A', 'B', 'C', 'D', 'F']\n",
    "\n",
    "plt.title(\"School Corp Grade Percentatges 2016\")\n",
    "plt.pie(gradecount2016, labels=labels, colors=colors,\n",
    "        autopct=\"%1.1f%%\", shadow=True, startangle=90)\n",
    "plt.axis(\"equal\")\n",
    "plt.show()"
   ]
  },
  {
   "cell_type": "code",
   "execution_count": 18,
   "metadata": {},
   "outputs": [
    {
     "data": {
      "image/png": "[encoded data removed]",
      "text/plain": [
       "<Figure size 432x288 with 1 Axes>"
      ]
     },
     "metadata": {},
     "output_type": "display_data"
    }
   ],
   "source": [
    "# Pie Chart of School Corp Grade Percentages 2017\n",
    "colors = [\"yellowgreen\", \"red\", \"lightcoral\", \"lightskyblue\", \"gold\"]\n",
    "explode = (0, 0.05, 0, 0)\n",
    "labels = ['A', 'B', 'C', 'D', 'F']\n",
    "\n",
    "plt.title(\"School Corp Grade Percentatges 2017\")\n",
    "plt.pie(gradecount2017, labels=labels, colors=colors,\n",
    "        autopct=\"%1.1f%%\", shadow=True, startangle=90)\n",
    "plt.axis(\"equal\")\n",
    "plt.show()"
   ]
  },
  {
   "cell_type": "code",
   "execution_count": null,
   "metadata": {},
   "outputs": [],
   "source": [
    "# Pie Chart of School Corp Grade Percentages 2018\n",
    "colors = [\"yellowgreen\", \"red\", \"lightcoral\", \"lightskyblue\", \"gold\"]\n",
    "explode = (0, 0.05, 0, 0)\n",
    "labels = ['A', 'B', 'C', 'D', 'F']\n",
    "\n",
    "plt.title(\"School Corp Grade Percentatges 2018\")\n",
    "plt.pie(gradecount2018, labels=labels, colors=colors,\n",
    "        autopct=\"%1.1f%%\", shadow=True, startangle=90)\n",
    "plt.axis(\"equal\")\n",
    "plt.show()"
   ]
  },
  {
   "cell_type": "code",
   "execution_count": 19,
   "metadata": {},
   "outputs": [
    {
     "data": {
      "image/png": "[encoded data removed]",
      "text/plain": [
       "<Figure size 432x288 with 1 Axes>"
      ]
     },
     "metadata": {},
     "output_type": "display_data"
    }
   ],
   "source": [
    "# Pie Chart of School Corp Grade Percentages 2019\n",
    "colors = [\"yellowgreen\", \"red\", \"lightcoral\", \"lightskyblue\", \"gold\"]\n",
    "explode = (0, 0.05, 0, 0)\n",
    "labels = ['A', 'B', 'C', 'D', 'F']\n",
    "\n",
    "plt.title(\"School Corp Grade Percentatges 2019\")\n",
    "plt.pie(gradecount2019, labels=labels, colors=colors,\n",
    "        autopct=\"%1.1f%%\", shadow=True, startangle=90)\n",
    "plt.axis(\"equal\")\n",
    "plt.show()"
   ]
  },
  {
   "cell_type": "code",
   "execution_count": 20,
   "metadata": {
    "scrolled": true
   },
   "outputs": [],
   "source": [
    "#gradecount1 = pd.merge(schoolgrade2015, schoolgrade2016, on=\"Corporate Name\")\n",
    "#gradecount1.head()"
   ]
  },
  {
   "cell_type": "code",
   "execution_count": 21,
   "metadata": {},
   "outputs": [],
   "source": [
    "#gradecount2 = gradecount1.drop(['Corp ID_y'], axis=1)\n",
    "#gradecount2.head()"
   ]
  },
  {
   "cell_type": "code",
   "execution_count": 22,
   "metadata": {},
   "outputs": [],
   "source": [
    "#gradecount3 = pd.merge(gradecount2, schoolgrade2017, on=\"Corporate Name\")\n",
    "#gradecount3.head()"
   ]
  },
  {
   "cell_type": "code",
   "execution_count": 23,
   "metadata": {
    "scrolled": true
   },
   "outputs": [],
   "source": [
    "#gradecount4 = gradecount3.drop(['Corp ID'], axis=1)\n",
    "#gradecount4.head()"
   ]
  },
  {
   "cell_type": "code",
   "execution_count": 24,
   "metadata": {},
   "outputs": [],
   "source": [
    "#gradecount5 = pd.merge(gradecount4, schoolgrade2018, on=\"Corporate Name\")\n",
    "#gradecount5.head()"
   ]
  },
  {
   "cell_type": "code",
   "execution_count": 25,
   "metadata": {},
   "outputs": [],
   "source": [
    "#gradecount6 = gradecount5.drop(['Corp ID'], axis=1)\n",
    "#gradecount6.head()"
   ]
  },
  {
   "cell_type": "code",
   "execution_count": 26,
   "metadata": {},
   "outputs": [],
   "source": [
    "#gradecount7 = pd.merge(gradecount6, schoolgrade2019, on=\"Corporate Name\")\n",
    "#gradecount7.head()"
   ]
  },
  {
   "cell_type": "code",
   "execution_count": 27,
   "metadata": {},
   "outputs": [],
   "source": [
    "#gradecount8 = gradecount7.drop(['Corp ID'], axis=1)\n",
    "#gradecount8.head()"
   ]
  },
  {
   "cell_type": "code",
   "execution_count": 28,
   "metadata": {},
   "outputs": [],
   "source": [
    "#gradecount9 = gradecount8.drop(['Corp ID_x'], axis=1)\n",
    "#gradecount9.head()"
   ]
  },
  {
   "cell_type": "markdown",
   "metadata": {},
   "source": [
    "## Visualize the change in rate compared to letter grade "
   ]
  },
  {
   "cell_type": "code",
   "execution_count": 29,
   "metadata": {},
   "outputs": [
    {
     "data": {
      "text/html": [
       "<div>\n",
       "<style scoped>\n",
       "    .dataframe tbody tr th:only-of-type {\n",
       "        vertical-align: middle;\n",
       "    }\n",
       "\n",
       "    .dataframe tbody tr th {\n",
       "        vertical-align: top;\n",
       "    }\n",
       "\n",
       "    .dataframe thead th {\n",
       "        text-align: right;\n",
       "    }\n",
       "</style>\n",
       "<table border=\"1\" class=\"dataframe\">\n",
       "  <thead>\n",
       "    <tr style=\"text-align: right;\">\n",
       "      <th></th>\n",
       "      <th>Corp Id</th>\n",
       "      <th>CORPORATION NAME</th>\n",
       "      <th>Cohort N</th>\n",
       "      <th>Grad N</th>\n",
       "      <th>State Grad Rate</th>\n",
       "      <th>Non-Waiver Grad N</th>\n",
       "      <th>State Non-Waiver Grad Rate</th>\n",
       "    </tr>\n",
       "  </thead>\n",
       "  <tbody>\n",
       "    <tr>\n",
       "      <th>0</th>\n",
       "      <td>15</td>\n",
       "      <td>Adams Central Community Schools</td>\n",
       "      <td>95</td>\n",
       "      <td>90</td>\n",
       "      <td>94.70%</td>\n",
       "      <td>87</td>\n",
       "      <td>91.60%</td>\n",
       "    </tr>\n",
       "    <tr>\n",
       "      <th>1</th>\n",
       "      <td>5265</td>\n",
       "      <td>Alexandria Community School Corporation</td>\n",
       "      <td>112</td>\n",
       "      <td>98</td>\n",
       "      <td>87.50%</td>\n",
       "      <td>97</td>\n",
       "      <td>86.60%</td>\n",
       "    </tr>\n",
       "    <tr>\n",
       "      <th>2</th>\n",
       "      <td>5275</td>\n",
       "      <td>Anderson Community School Corporation</td>\n",
       "      <td>394</td>\n",
       "      <td>353</td>\n",
       "      <td>89.60%</td>\n",
       "      <td>277</td>\n",
       "      <td>70.30%</td>\n",
       "    </tr>\n",
       "    <tr>\n",
       "      <th>3</th>\n",
       "      <td>5470</td>\n",
       "      <td>Argos Community Schools</td>\n",
       "      <td>46</td>\n",
       "      <td>34</td>\n",
       "      <td>73.90%</td>\n",
       "      <td>34</td>\n",
       "      <td>73.90%</td>\n",
       "    </tr>\n",
       "    <tr>\n",
       "      <th>4</th>\n",
       "      <td>2435</td>\n",
       "      <td>Attica Consolidated School Corporation</td>\n",
       "      <td>68</td>\n",
       "      <td>67</td>\n",
       "      <td>98.50%</td>\n",
       "      <td>64</td>\n",
       "      <td>94.10%</td>\n",
       "    </tr>\n",
       "  </tbody>\n",
       "</table>\n",
       "</div>"
      ],
      "text/plain": [
       "   Corp Id                         CORPORATION NAME  Cohort N  Grad N  \\\n",
       "0       15          Adams Central Community Schools        95      90   \n",
       "1     5265  Alexandria Community School Corporation       112      98   \n",
       "2     5275    Anderson Community School Corporation       394     353   \n",
       "3     5470                  Argos Community Schools        46      34   \n",
       "4     2435   Attica Consolidated School Corporation        68      67   \n",
       "\n",
       "  State Grad Rate  Non-Waiver Grad N State Non-Waiver Grad Rate  \n",
       "0          94.70%                 87                     91.60%  \n",
       "1          87.50%                 97                     86.60%  \n",
       "2          89.60%                277                     70.30%  \n",
       "3          73.90%                 34                     73.90%  \n",
       "4          98.50%                 64                     94.10%  "
      ]
     },
     "execution_count": 29,
     "metadata": {},
     "output_type": "execute_result"
    }
   ],
   "source": [
    "# Read in school grade files for each year\n",
    "gradrate2015 = pd.read_csv('Resources/2015_grad_rates_revised.csv')\n",
    "gradrate2016 = pd.read_csv('Resources/2016_grad_rates_revised.csv')\n",
    "gradrate2017 = pd.read_csv('Resources/2017_grad_rates_revised.csv')\n",
    "gradrate2018 = pd.read_csv('Resources/2018_grad_rates_revised.csv')\n",
    "gradrate2019 = pd.read_csv('Resources/2019_grad_rates_revised.csv')\n",
    "gradrate2015.head()"
   ]
  },
  {
   "cell_type": "code",
   "execution_count": 30,
   "metadata": {},
   "outputs": [
    {
     "data": {
      "text/html": [
       "<div>\n",
       "<style scoped>\n",
       "    .dataframe tbody tr th:only-of-type {\n",
       "        vertical-align: middle;\n",
       "    }\n",
       "\n",
       "    .dataframe tbody tr th {\n",
       "        vertical-align: top;\n",
       "    }\n",
       "\n",
       "    .dataframe thead th {\n",
       "        text-align: right;\n",
       "    }\n",
       "</style>\n",
       "<table border=\"1\" class=\"dataframe\">\n",
       "  <thead>\n",
       "    <tr style=\"text-align: right;\">\n",
       "      <th></th>\n",
       "      <th>Corp ID</th>\n",
       "      <th>CORPORATION NAME</th>\n",
       "      <th>Corp Grade 2015</th>\n",
       "      <th>Corp Id</th>\n",
       "      <th>Cohort N</th>\n",
       "      <th>Grad N</th>\n",
       "      <th>State Grad Rate</th>\n",
       "      <th>Non-Waiver Grad N</th>\n",
       "      <th>State Non-Waiver Grad Rate</th>\n",
       "      <th>Percent Change in Grad Rate</th>\n",
       "    </tr>\n",
       "  </thead>\n",
       "  <tbody>\n",
       "    <tr>\n",
       "      <th>0</th>\n",
       "      <td>15</td>\n",
       "      <td>Adams Central Community Schools</td>\n",
       "      <td>C</td>\n",
       "      <td>15</td>\n",
       "      <td>95</td>\n",
       "      <td>90</td>\n",
       "      <td>94.70%</td>\n",
       "      <td>87</td>\n",
       "      <td>91.60%</td>\n",
       "      <td>3.333333</td>\n",
       "    </tr>\n",
       "    <tr>\n",
       "      <th>1</th>\n",
       "      <td>5265</td>\n",
       "      <td>Alexandria Community School Corporation</td>\n",
       "      <td>C</td>\n",
       "      <td>5265</td>\n",
       "      <td>112</td>\n",
       "      <td>98</td>\n",
       "      <td>87.50%</td>\n",
       "      <td>97</td>\n",
       "      <td>86.60%</td>\n",
       "      <td>1.020408</td>\n",
       "    </tr>\n",
       "    <tr>\n",
       "      <th>2</th>\n",
       "      <td>5275</td>\n",
       "      <td>Anderson Community School Corporation</td>\n",
       "      <td>D</td>\n",
       "      <td>5275</td>\n",
       "      <td>394</td>\n",
       "      <td>353</td>\n",
       "      <td>89.60%</td>\n",
       "      <td>277</td>\n",
       "      <td>70.30%</td>\n",
       "      <td>21.529745</td>\n",
       "    </tr>\n",
       "    <tr>\n",
       "      <th>3</th>\n",
       "      <td>5470</td>\n",
       "      <td>Argos Community Schools</td>\n",
       "      <td>B</td>\n",
       "      <td>5470</td>\n",
       "      <td>46</td>\n",
       "      <td>34</td>\n",
       "      <td>73.90%</td>\n",
       "      <td>34</td>\n",
       "      <td>73.90%</td>\n",
       "      <td>0.000000</td>\n",
       "    </tr>\n",
       "    <tr>\n",
       "      <th>4</th>\n",
       "      <td>2435</td>\n",
       "      <td>Attica Consolidated School Corporation</td>\n",
       "      <td>D</td>\n",
       "      <td>2435</td>\n",
       "      <td>68</td>\n",
       "      <td>67</td>\n",
       "      <td>98.50%</td>\n",
       "      <td>64</td>\n",
       "      <td>94.10%</td>\n",
       "      <td>4.477612</td>\n",
       "    </tr>\n",
       "  </tbody>\n",
       "</table>\n",
       "</div>"
      ],
      "text/plain": [
       "   Corp ID                         CORPORATION NAME Corp Grade 2015  Corp Id  \\\n",
       "0       15          Adams Central Community Schools               C       15   \n",
       "1     5265  Alexandria Community School Corporation               C     5265   \n",
       "2     5275    Anderson Community School Corporation               D     5275   \n",
       "3     5470                  Argos Community Schools               B     5470   \n",
       "4     2435   Attica Consolidated School Corporation               D     2435   \n",
       "\n",
       "   Cohort N  Grad N State Grad Rate  Non-Waiver Grad N  \\\n",
       "0        95      90          94.70%                 87   \n",
       "1       112      98          87.50%                 97   \n",
       "2       394     353          89.60%                277   \n",
       "3        46      34          73.90%                 34   \n",
       "4        68      67          98.50%                 64   \n",
       "\n",
       "  State Non-Waiver Grad Rate  Percent Change in Grad Rate  \n",
       "0                     91.60%                     3.333333  \n",
       "1                     86.60%                     1.020408  \n",
       "2                     70.30%                    21.529745  \n",
       "3                     73.90%                     0.000000  \n",
       "4                     94.10%                     4.477612  "
      ]
     },
     "execution_count": 30,
     "metadata": {},
     "output_type": "execute_result"
    }
   ],
   "source": [
    "# Merge School Grade with School Grad info:\n",
    "schoolgrade15 = schoolgrade2015.rename(columns={\"Corporate Name\":\"CORPORATION NAME\"})\n",
    "#schoolgrade15.head()\n",
    "\n",
    "grade_grad15 = pd.merge(schoolgrade15, gradrate2015, on=\"CORPORATION NAME\")\n",
    "#grade_grad15.head()\n",
    "\n",
    "# find change in grad rate =  grad n - non-waiver n / grad n\n",
    "grade_grad15['Percent Change in Grad Rate'] = (grade_grad15['Grad N'] - grade_grad15['Non-Waiver Grad N']) / grade_grad15['Grad N'] * 100\n",
    "grade_grad15.head()"
   ]
  },
  {
   "cell_type": "code",
   "execution_count": 31,
   "metadata": {},
   "outputs": [
    {
     "data": {
      "text/html": [
       "<div>\n",
       "<style scoped>\n",
       "    .dataframe tbody tr th:only-of-type {\n",
       "        vertical-align: middle;\n",
       "    }\n",
       "\n",
       "    .dataframe tbody tr th {\n",
       "        vertical-align: top;\n",
       "    }\n",
       "\n",
       "    .dataframe thead th {\n",
       "        text-align: right;\n",
       "    }\n",
       "</style>\n",
       "<table border=\"1\" class=\"dataframe\">\n",
       "  <thead>\n",
       "    <tr style=\"text-align: right;\">\n",
       "      <th></th>\n",
       "      <th>Corp ID</th>\n",
       "      <th>CORPORATION NAME</th>\n",
       "      <th>Corp Grade 2016</th>\n",
       "      <th>Corp Id</th>\n",
       "      <th>Cohort N</th>\n",
       "      <th>Grad N</th>\n",
       "      <th>State Grad Rate</th>\n",
       "      <th>Non-Waiver Grad N</th>\n",
       "      <th>State Non-Waiver Grad Rate</th>\n",
       "      <th>Percent Change in Grad Rate</th>\n",
       "    </tr>\n",
       "  </thead>\n",
       "  <tbody>\n",
       "    <tr>\n",
       "      <th>0</th>\n",
       "      <td>15</td>\n",
       "      <td>Adams Central Community Schools</td>\n",
       "      <td>B</td>\n",
       "      <td>15</td>\n",
       "      <td>87</td>\n",
       "      <td>86</td>\n",
       "      <td>98.90%</td>\n",
       "      <td>85</td>\n",
       "      <td>97.70%</td>\n",
       "      <td>1.162791</td>\n",
       "    </tr>\n",
       "    <tr>\n",
       "      <th>1</th>\n",
       "      <td>5265</td>\n",
       "      <td>Alexandria Community School Corporation</td>\n",
       "      <td>C</td>\n",
       "      <td>5265</td>\n",
       "      <td>117</td>\n",
       "      <td>112</td>\n",
       "      <td>95.70%</td>\n",
       "      <td>108</td>\n",
       "      <td>92.30%</td>\n",
       "      <td>3.571429</td>\n",
       "    </tr>\n",
       "    <tr>\n",
       "      <th>2</th>\n",
       "      <td>5275</td>\n",
       "      <td>Anderson Community School Corporation</td>\n",
       "      <td>C</td>\n",
       "      <td>5275</td>\n",
       "      <td>387</td>\n",
       "      <td>367</td>\n",
       "      <td>94.80%</td>\n",
       "      <td>298</td>\n",
       "      <td>77.00%</td>\n",
       "      <td>18.801090</td>\n",
       "    </tr>\n",
       "    <tr>\n",
       "      <th>3</th>\n",
       "      <td>5470</td>\n",
       "      <td>Argos Community Schools</td>\n",
       "      <td>C</td>\n",
       "      <td>5470</td>\n",
       "      <td>48</td>\n",
       "      <td>38</td>\n",
       "      <td>79.20%</td>\n",
       "      <td>37</td>\n",
       "      <td>77.10%</td>\n",
       "      <td>2.631579</td>\n",
       "    </tr>\n",
       "    <tr>\n",
       "      <th>4</th>\n",
       "      <td>2435</td>\n",
       "      <td>Attica Consolidated School Corporation</td>\n",
       "      <td>C</td>\n",
       "      <td>2435</td>\n",
       "      <td>61</td>\n",
       "      <td>57</td>\n",
       "      <td>93.40%</td>\n",
       "      <td>53</td>\n",
       "      <td>86.90%</td>\n",
       "      <td>7.017544</td>\n",
       "    </tr>\n",
       "  </tbody>\n",
       "</table>\n",
       "</div>"
      ],
      "text/plain": [
       "   Corp ID                         CORPORATION NAME Corp Grade 2016  Corp Id  \\\n",
       "0       15          Adams Central Community Schools               B       15   \n",
       "1     5265  Alexandria Community School Corporation               C     5265   \n",
       "2     5275    Anderson Community School Corporation               C     5275   \n",
       "3     5470                  Argos Community Schools               C     5470   \n",
       "4     2435   Attica Consolidated School Corporation               C     2435   \n",
       "\n",
       "   Cohort N  Grad N State Grad Rate  Non-Waiver Grad N  \\\n",
       "0        87      86          98.90%                 85   \n",
       "1       117     112          95.70%                108   \n",
       "2       387     367          94.80%                298   \n",
       "3        48      38          79.20%                 37   \n",
       "4        61      57          93.40%                 53   \n",
       "\n",
       "  State Non-Waiver Grad Rate  Percent Change in Grad Rate  \n",
       "0                     97.70%                     1.162791  \n",
       "1                     92.30%                     3.571429  \n",
       "2                     77.00%                    18.801090  \n",
       "3                     77.10%                     2.631579  \n",
       "4                     86.90%                     7.017544  "
      ]
     },
     "execution_count": 31,
     "metadata": {},
     "output_type": "execute_result"
    }
   ],
   "source": [
    "# Merge School Grade with School Grad info:\n",
    "schoolgrade16 = schoolgrade2016.rename(columns={\"Corporate Name\":\"CORPORATION NAME\"})\n",
    "#schoolgrade16.head()\n",
    "grade_grad16 = pd.merge(schoolgrade16, gradrate2016, on=\"CORPORATION NAME\")\n",
    "#grade_grad15.head()\n",
    "\n",
    "# grad n - non-waiver n / grad n\n",
    "grade_grad16['Percent Change in Grad Rate'] = (grade_grad16['Grad N'] - grade_grad16['Non-Waiver Grad N']) / grade_grad16['Grad N'] * 100\n",
    "grade_grad16.head()"
   ]
  },
  {
   "cell_type": "code",
   "execution_count": 32,
   "metadata": {
    "scrolled": true
   },
   "outputs": [
    {
     "data": {
      "text/html": [
       "<div>\n",
       "<style scoped>\n",
       "    .dataframe tbody tr th:only-of-type {\n",
       "        vertical-align: middle;\n",
       "    }\n",
       "\n",
       "    .dataframe tbody tr th {\n",
       "        vertical-align: top;\n",
       "    }\n",
       "\n",
       "    .dataframe thead th {\n",
       "        text-align: right;\n",
       "    }\n",
       "</style>\n",
       "<table border=\"1\" class=\"dataframe\">\n",
       "  <thead>\n",
       "    <tr style=\"text-align: right;\">\n",
       "      <th></th>\n",
       "      <th>Corp ID</th>\n",
       "      <th>CORPORATION NAME</th>\n",
       "      <th>Corp Grade 2017</th>\n",
       "      <th>Corp Id</th>\n",
       "      <th>Cohort N</th>\n",
       "      <th>Grad N</th>\n",
       "      <th>State Grad Rate</th>\n",
       "      <th>Non-Waiver Grad N</th>\n",
       "      <th>State Non-Waiver Grad Rate</th>\n",
       "      <th>Percent Change in Grad Rate</th>\n",
       "    </tr>\n",
       "  </thead>\n",
       "  <tbody>\n",
       "    <tr>\n",
       "      <th>0</th>\n",
       "      <td>15.0</td>\n",
       "      <td>Adams Central Community Schools</td>\n",
       "      <td>B</td>\n",
       "      <td>15</td>\n",
       "      <td>95</td>\n",
       "      <td>93</td>\n",
       "      <td>97.89%</td>\n",
       "      <td>91</td>\n",
       "      <td>95.79%</td>\n",
       "      <td>2.150538</td>\n",
       "    </tr>\n",
       "    <tr>\n",
       "      <th>1</th>\n",
       "      <td>5265.0</td>\n",
       "      <td>Alexandria Community School Corporation</td>\n",
       "      <td>C</td>\n",
       "      <td>5265</td>\n",
       "      <td>124</td>\n",
       "      <td>117</td>\n",
       "      <td>94.35%</td>\n",
       "      <td>110</td>\n",
       "      <td>88.71%</td>\n",
       "      <td>5.982906</td>\n",
       "    </tr>\n",
       "    <tr>\n",
       "      <th>2</th>\n",
       "      <td>5275.0</td>\n",
       "      <td>Anderson Community School Corporation</td>\n",
       "      <td>C</td>\n",
       "      <td>5275</td>\n",
       "      <td>387</td>\n",
       "      <td>371</td>\n",
       "      <td>95.87%</td>\n",
       "      <td>288</td>\n",
       "      <td>74.42%</td>\n",
       "      <td>22.371968</td>\n",
       "    </tr>\n",
       "    <tr>\n",
       "      <th>3</th>\n",
       "      <td>5470.0</td>\n",
       "      <td>Argos Community Schools</td>\n",
       "      <td>B</td>\n",
       "      <td>5470</td>\n",
       "      <td>47</td>\n",
       "      <td>43</td>\n",
       "      <td>91.49%</td>\n",
       "      <td>41</td>\n",
       "      <td>87.23%</td>\n",
       "      <td>4.651163</td>\n",
       "    </tr>\n",
       "    <tr>\n",
       "      <th>4</th>\n",
       "      <td>2435.0</td>\n",
       "      <td>Attica Consolidated School Corporation</td>\n",
       "      <td>C</td>\n",
       "      <td>2435</td>\n",
       "      <td>52</td>\n",
       "      <td>47</td>\n",
       "      <td>90.38%</td>\n",
       "      <td>42</td>\n",
       "      <td>80.77%</td>\n",
       "      <td>10.638298</td>\n",
       "    </tr>\n",
       "  </tbody>\n",
       "</table>\n",
       "</div>"
      ],
      "text/plain": [
       "   Corp ID                         CORPORATION NAME Corp Grade 2017  Corp Id  \\\n",
       "0     15.0          Adams Central Community Schools               B       15   \n",
       "1   5265.0  Alexandria Community School Corporation               C     5265   \n",
       "2   5275.0    Anderson Community School Corporation               C     5275   \n",
       "3   5470.0                  Argos Community Schools               B     5470   \n",
       "4   2435.0   Attica Consolidated School Corporation               C     2435   \n",
       "\n",
       "   Cohort N  Grad N State Grad Rate  Non-Waiver Grad N  \\\n",
       "0        95      93          97.89%                 91   \n",
       "1       124     117          94.35%                110   \n",
       "2       387     371          95.87%                288   \n",
       "3        47      43          91.49%                 41   \n",
       "4        52      47          90.38%                 42   \n",
       "\n",
       "  State Non-Waiver Grad Rate  Percent Change in Grad Rate  \n",
       "0                     95.79%                     2.150538  \n",
       "1                     88.71%                     5.982906  \n",
       "2                     74.42%                    22.371968  \n",
       "3                     87.23%                     4.651163  \n",
       "4                     80.77%                    10.638298  "
      ]
     },
     "execution_count": 32,
     "metadata": {},
     "output_type": "execute_result"
    }
   ],
   "source": [
    "# Merge School Grade with School Grad info:\n",
    "schoolgrade17 = schoolgrade2017.rename(columns={\"Corporate Name\":\"CORPORATION NAME\"})\n",
    "grade_grad17 = pd.merge(schoolgrade17, gradrate2017, on=\"CORPORATION NAME\")\n",
    "\n",
    "# grad n - non-waiver n / grad n\n",
    "grade_grad17['Percent Change in Grad Rate'] = (grade_grad17['Grad N'] - grade_grad17['Non-Waiver Grad N']) / grade_grad17['Grad N'] * 100\n",
    "grade_grad17.head()"
   ]
  },
  {
   "cell_type": "code",
   "execution_count": null,
   "metadata": {},
   "outputs": [],
   "source": []
  },
  {
   "cell_type": "code",
   "execution_count": 33,
   "metadata": {},
   "outputs": [
    {
     "data": {
      "text/html": [
       "<div>\n",
       "<style scoped>\n",
       "    .dataframe tbody tr th:only-of-type {\n",
       "        vertical-align: middle;\n",
       "    }\n",
       "\n",
       "    .dataframe tbody tr th {\n",
       "        vertical-align: top;\n",
       "    }\n",
       "\n",
       "    .dataframe thead th {\n",
       "        text-align: right;\n",
       "    }\n",
       "</style>\n",
       "<table border=\"1\" class=\"dataframe\">\n",
       "  <thead>\n",
       "    <tr style=\"text-align: right;\">\n",
       "      <th></th>\n",
       "      <th>Corp ID</th>\n",
       "      <th>CORPORATION NAME</th>\n",
       "      <th>Corp Grade 2018</th>\n",
       "      <th>Corp Id</th>\n",
       "      <th>Cohort N</th>\n",
       "      <th>Grad N</th>\n",
       "      <th>State Grad Rate</th>\n",
       "      <th>Non-Waiver Grad N</th>\n",
       "      <th>State Non-Waiver Grad Rate</th>\n",
       "      <th>Percent Change in Grad Rate</th>\n",
       "    </tr>\n",
       "  </thead>\n",
       "  <tbody>\n",
       "    <tr>\n",
       "      <th>0</th>\n",
       "      <td>15.0</td>\n",
       "      <td>Adams Central Community Schools</td>\n",
       "      <td>B</td>\n",
       "      <td>15</td>\n",
       "      <td>99</td>\n",
       "      <td>98</td>\n",
       "      <td>98.99%</td>\n",
       "      <td>95</td>\n",
       "      <td>95.96%</td>\n",
       "      <td>3.061224</td>\n",
       "    </tr>\n",
       "    <tr>\n",
       "      <th>1</th>\n",
       "      <td>5265.0</td>\n",
       "      <td>Alexandria Community School Corporation</td>\n",
       "      <td>B</td>\n",
       "      <td>5265</td>\n",
       "      <td>94</td>\n",
       "      <td>90</td>\n",
       "      <td>95.74%</td>\n",
       "      <td>73</td>\n",
       "      <td>77.66%</td>\n",
       "      <td>18.888889</td>\n",
       "    </tr>\n",
       "    <tr>\n",
       "      <th>2</th>\n",
       "      <td>5275.0</td>\n",
       "      <td>Anderson Community School Corporation</td>\n",
       "      <td>C</td>\n",
       "      <td>5275</td>\n",
       "      <td>457</td>\n",
       "      <td>367</td>\n",
       "      <td>80.31%</td>\n",
       "      <td>327</td>\n",
       "      <td>71.55%</td>\n",
       "      <td>10.899183</td>\n",
       "    </tr>\n",
       "    <tr>\n",
       "      <th>3</th>\n",
       "      <td>5470.0</td>\n",
       "      <td>Argos Community Schools</td>\n",
       "      <td>B</td>\n",
       "      <td>5470</td>\n",
       "      <td>56</td>\n",
       "      <td>48</td>\n",
       "      <td>85.71%</td>\n",
       "      <td>43</td>\n",
       "      <td>76.79%</td>\n",
       "      <td>10.416667</td>\n",
       "    </tr>\n",
       "    <tr>\n",
       "      <th>4</th>\n",
       "      <td>2435.0</td>\n",
       "      <td>Attica Consolidated School Corporation</td>\n",
       "      <td>B</td>\n",
       "      <td>2435</td>\n",
       "      <td>50</td>\n",
       "      <td>49</td>\n",
       "      <td>98.00%</td>\n",
       "      <td>48</td>\n",
       "      <td>96.00%</td>\n",
       "      <td>2.040816</td>\n",
       "    </tr>\n",
       "  </tbody>\n",
       "</table>\n",
       "</div>"
      ],
      "text/plain": [
       "   Corp ID                         CORPORATION NAME Corp Grade 2018  Corp Id  \\\n",
       "0     15.0          Adams Central Community Schools               B       15   \n",
       "1   5265.0  Alexandria Community School Corporation               B     5265   \n",
       "2   5275.0    Anderson Community School Corporation               C     5275   \n",
       "3   5470.0                  Argos Community Schools               B     5470   \n",
       "4   2435.0   Attica Consolidated School Corporation               B     2435   \n",
       "\n",
       "   Cohort N  Grad N State Grad Rate  Non-Waiver Grad N  \\\n",
       "0        99      98          98.99%                 95   \n",
       "1        94      90          95.74%                 73   \n",
       "2       457     367          80.31%                327   \n",
       "3        56      48          85.71%                 43   \n",
       "4        50      49          98.00%                 48   \n",
       "\n",
       "  State Non-Waiver Grad Rate  Percent Change in Grad Rate  \n",
       "0                     95.96%                     3.061224  \n",
       "1                     77.66%                    18.888889  \n",
       "2                     71.55%                    10.899183  \n",
       "3                     76.79%                    10.416667  \n",
       "4                     96.00%                     2.040816  "
      ]
     },
     "execution_count": 33,
     "metadata": {},
     "output_type": "execute_result"
    }
   ],
   "source": [
    "# Merge School Grade with School Grad info:\n",
    "schoolgrade18 = schoolgrade2018.rename(columns={\"Corporate Name\":\"CORPORATION NAME\"})\n",
    "grade_grad18 = pd.merge(schoolgrade18, gradrate2018, on=\"CORPORATION NAME\")\n",
    "\n",
    "# grad n - non-waiver n / grad n\n",
    "grade_grad18['Percent Change in Grad Rate'] = (grade_grad18['Grad N'] - grade_grad18['Non-Waiver Grad N']) / grade_grad18['Grad N'] * 100\n",
    "grade_grad18.head()"
   ]
  },
  {
   "cell_type": "code",
   "execution_count": 34,
   "metadata": {},
   "outputs": [
    {
     "data": {
      "text/html": [
       "<div>\n",
       "<style scoped>\n",
       "    .dataframe tbody tr th:only-of-type {\n",
       "        vertical-align: middle;\n",
       "    }\n",
       "\n",
       "    .dataframe tbody tr th {\n",
       "        vertical-align: top;\n",
       "    }\n",
       "\n",
       "    .dataframe thead th {\n",
       "        text-align: right;\n",
       "    }\n",
       "</style>\n",
       "<table border=\"1\" class=\"dataframe\">\n",
       "  <thead>\n",
       "    <tr style=\"text-align: right;\">\n",
       "      <th></th>\n",
       "      <th>Corp ID</th>\n",
       "      <th>CORPORATION NAME</th>\n",
       "      <th>Corp Grade 2019</th>\n",
       "      <th>Corp Id</th>\n",
       "      <th>Cohort N</th>\n",
       "      <th>Grad N</th>\n",
       "      <th>State Grad Rate</th>\n",
       "      <th>Non-Waiver Grad N</th>\n",
       "      <th>State Non-Waiver Grad Rate</th>\n",
       "      <th>Percent Change in Grad Rate</th>\n",
       "    </tr>\n",
       "  </thead>\n",
       "  <tbody>\n",
       "    <tr>\n",
       "      <th>0</th>\n",
       "      <td>15.0</td>\n",
       "      <td>Adams Central Community Schools</td>\n",
       "      <td>B</td>\n",
       "      <td>15</td>\n",
       "      <td>99</td>\n",
       "      <td>98</td>\n",
       "      <td>98.99%</td>\n",
       "      <td>95</td>\n",
       "      <td>95.96%</td>\n",
       "      <td>3.061224</td>\n",
       "    </tr>\n",
       "    <tr>\n",
       "      <th>1</th>\n",
       "      <td>5265.0</td>\n",
       "      <td>Alexandria Community School Corporation</td>\n",
       "      <td>B</td>\n",
       "      <td>5265</td>\n",
       "      <td>94</td>\n",
       "      <td>90</td>\n",
       "      <td>95.74%</td>\n",
       "      <td>73</td>\n",
       "      <td>77.66%</td>\n",
       "      <td>18.888889</td>\n",
       "    </tr>\n",
       "    <tr>\n",
       "      <th>2</th>\n",
       "      <td>5275.0</td>\n",
       "      <td>Anderson Community School Corporation</td>\n",
       "      <td>C</td>\n",
       "      <td>5275</td>\n",
       "      <td>457</td>\n",
       "      <td>367</td>\n",
       "      <td>80.31%</td>\n",
       "      <td>327</td>\n",
       "      <td>71.55%</td>\n",
       "      <td>10.899183</td>\n",
       "    </tr>\n",
       "    <tr>\n",
       "      <th>3</th>\n",
       "      <td>5470.0</td>\n",
       "      <td>Argos Community Schools</td>\n",
       "      <td>B</td>\n",
       "      <td>5470</td>\n",
       "      <td>56</td>\n",
       "      <td>48</td>\n",
       "      <td>85.71%</td>\n",
       "      <td>43</td>\n",
       "      <td>76.79%</td>\n",
       "      <td>10.416667</td>\n",
       "    </tr>\n",
       "    <tr>\n",
       "      <th>4</th>\n",
       "      <td>2435.0</td>\n",
       "      <td>Attica Consolidated School Corporation</td>\n",
       "      <td>B</td>\n",
       "      <td>2435</td>\n",
       "      <td>50</td>\n",
       "      <td>49</td>\n",
       "      <td>98.00%</td>\n",
       "      <td>48</td>\n",
       "      <td>96.00%</td>\n",
       "      <td>2.040816</td>\n",
       "    </tr>\n",
       "  </tbody>\n",
       "</table>\n",
       "</div>"
      ],
      "text/plain": [
       "   Corp ID                         CORPORATION NAME Corp Grade 2019  Corp Id  \\\n",
       "0     15.0          Adams Central Community Schools               B       15   \n",
       "1   5265.0  Alexandria Community School Corporation               B     5265   \n",
       "2   5275.0    Anderson Community School Corporation               C     5275   \n",
       "3   5470.0                  Argos Community Schools               B     5470   \n",
       "4   2435.0   Attica Consolidated School Corporation               B     2435   \n",
       "\n",
       "   Cohort N  Grad N State Grad Rate  Non-Waiver Grad N  \\\n",
       "0        99      98          98.99%                 95   \n",
       "1        94      90          95.74%                 73   \n",
       "2       457     367          80.31%                327   \n",
       "3        56      48          85.71%                 43   \n",
       "4        50      49          98.00%                 48   \n",
       "\n",
       "  State Non-Waiver Grad Rate  Percent Change in Grad Rate  \n",
       "0                     95.96%                     3.061224  \n",
       "1                     77.66%                    18.888889  \n",
       "2                     71.55%                    10.899183  \n",
       "3                     76.79%                    10.416667  \n",
       "4                     96.00%                     2.040816  "
      ]
     },
     "execution_count": 34,
     "metadata": {},
     "output_type": "execute_result"
    }
   ],
   "source": [
    "# Merge School Grade with School Grad info:\n",
    "schoolgrade19 = schoolgrade2019.rename(columns={\"Corporate Name\":\"CORPORATION NAME\"})\n",
    "grade_grad19 = pd.merge(schoolgrade19, gradrate2019, on=\"CORPORATION NAME\")\n",
    "\n",
    "# grad n - non-waiver n / grad n\n",
    "grade_grad19['Percent Change in Grad Rate'] = (grade_grad19['Grad N'] - grade_grad19['Non-Waiver Grad N']) / grade_grad19['Grad N'] * 100\n",
    "grade_grad19.head()"
   ]
  },
  {
   "cell_type": "code",
   "execution_count": 59,
   "metadata": {
    "scrolled": true
   },
   "outputs": [
    {
     "data": {
      "text/plain": [
       "(0.0, 60.0)"
      ]
     },
     "execution_count": 59,
     "metadata": {},
     "output_type": "execute_result"
    },
    {
     "data": {
      "image/png": "[encoded data removed]",
      "text/plain": [
       "<Figure size 432x288 with 1 Axes>"
      ]
     },
     "metadata": {
      "needs_background": "light"
     },
     "output_type": "display_data"
    }
   ],
   "source": [
    "gradegrad15 = grade_grad15.groupby(['Corp Grade 2015'])\n",
    "y_axis2015 = gradegrad15['Percent Change in Grad Rate'].mean()\n",
    "\n",
    "# Bar plot showing average change in grad rate per school letter grade  \n",
    "grades = ['A', 'B', 'C', 'D', 'F']\n",
    "x_axis = np.arange(0, len(grades))\n",
    "tick_locations = []\n",
    "for x in x_axis:\n",
    "    tick_locations.append(x)\n",
    "\n",
    "plt.title(\"Average Change in Grad Rate per School Grade A-F\")\n",
    "plt.suptitle(\"2015\")\n",
    "plt.xlabel(\"School Letter Grades\")\n",
    "plt.ylabel(\"Average Change in Grad Rate\")\n",
    "\n",
    "plt.bar(x_axis, y_axis2015, color='darkslategrey', alpha=0.5, align=\"center\")\n",
    "plt.xticks(tick_locations, grades)\n",
    "\n",
    "# Set the y limits of the current chart\n",
    "plt.ylim(0, 60)"
   ]
  },
  {
   "cell_type": "code",
   "execution_count": 60,
   "metadata": {
    "scrolled": true
   },
   "outputs": [
    {
     "data": {
      "text/plain": [
       "(0.0, 60.0)"
      ]
     },
     "execution_count": 60,
     "metadata": {},
     "output_type": "execute_result"
    },
    {
     "data": {
      "image/png": "[encoded data removed]",
      "text/plain": [
       "<Figure size 432x288 with 1 Axes>"
      ]
     },
     "metadata": {
      "needs_background": "light"
     },
     "output_type": "display_data"
    }
   ],
   "source": [
    "# Bar plot showing average change in grad rate per school letter grade  \n",
    "gradegrad16 = grade_grad16.groupby(['Corp Grade 2016'])\n",
    "y_axis2016 = gradegrad16['Percent Change in Grad Rate'].mean()\n",
    "\n",
    "plt.title(\"Average Change in Grad Rate per School Grade A-F\")\n",
    "plt.suptitle(\"2016\")\n",
    "plt.xlabel(\"School Letter Grades\")\n",
    "plt.ylabel(\"Average Change in Grad Rate\")\n",
    "\n",
    "plt.bar(x_axis, y_axis2016, color='darkslategrey', alpha=0.5, align=\"center\")\n",
    "plt.xticks(tick_locations, grades)\n",
    "\n",
    "# Set the y limits of the current chart\n",
    "plt.ylim(0, 60)"
   ]
  },
  {
   "cell_type": "code",
   "execution_count": 61,
   "metadata": {},
   "outputs": [
    {
     "data": {
      "text/plain": [
       "(0.0, 60.0)"
      ]
     },
     "execution_count": 61,
     "metadata": {},
     "output_type": "execute_result"
    },
    {
     "data": {
      "image/png": "[encoded data removed]",
      "text/plain": [
       "<Figure size 432x288 with 1 Axes>"
      ]
     },
     "metadata": {
      "needs_background": "light"
     },
     "output_type": "display_data"
    }
   ],
   "source": [
    "# Bar plot showing average change in grad rate per school letter grade  \n",
    "gradegrad17 = grade_grad17.groupby(['Corp Grade 2017']) \n",
    "y_axis2017 = gradegrad17['Percent Change in Grad Rate'].mean()\n",
    "\n",
    "plt.title(\"Average Change in Grad Rate per School Grade A-F\")\n",
    "plt.suptitle(\"2017\")\n",
    "plt.xlabel(\"School Letter Grades\")\n",
    "plt.ylabel(\"Average Change in Grad Rate\")\n",
    "\n",
    "plt.bar(x_axis, y_axis2017, color='darkslategrey', alpha=0.5, align=\"center\")\n",
    "plt.xticks(tick_locations, grades)\n",
    "\n",
    "# Set the y limits of the current chart\n",
    "plt.ylim(0, 60)"
   ]
  },
  {
   "cell_type": "code",
   "execution_count": 62,
   "metadata": {},
   "outputs": [
    {
     "data": {
      "text/plain": [
       "(0.0, 60.0)"
      ]
     },
     "execution_count": 62,
     "metadata": {},
     "output_type": "execute_result"
    },
    {
     "data": {
      "image/png": "[encoded data removed]",
      "text/plain": [
       "<Figure size 432x288 with 1 Axes>"
      ]
     },
     "metadata": {
      "needs_background": "light"
     },
     "output_type": "display_data"
    }
   ],
   "source": [
    "# Bar plot showing average change in grad rate per school letter grade  \n",
    "gradegrad18 = grade_grad18.groupby(['Corp Grade 2018'])\n",
    "y_axis2018 = gradegrad18['Percent Change in Grad Rate'].mean()\n",
    "\n",
    "plt.title(\"Average Change in Grad Rate per School Grade A-F\")\n",
    "plt.suptitle(\"2018\")\n",
    "plt.xlabel(\"School Letter Grades\")\n",
    "plt.ylabel(\"Average Change in Grad Rate\")\n",
    "\n",
    "plt.bar(x_axis, y_axis2018, color='darkslategrey', alpha=0.5, align=\"center\")\n",
    "plt.xticks(tick_locations, grades)\n",
    "\n",
    "# Set the y limits of the current chart\n",
    "plt.ylim(0, 60)"
   ]
  },
  {
   "cell_type": "code",
   "execution_count": 63,
   "metadata": {
    "scrolled": true
   },
   "outputs": [
    {
     "data": {
      "text/plain": [
       "(0.0, 60.0)"
      ]
     },
     "execution_count": 63,
     "metadata": {},
     "output_type": "execute_result"
    },
    {
     "data": {
      "image/png": "[encoded data removed]",
      "text/plain": [
       "<Figure size 432x288 with 1 Axes>"
      ]
     },
     "metadata": {
      "needs_background": "light"
     },
     "output_type": "display_data"
    }
   ],
   "source": [
    "#Find average of change in grad rate per letter grade\n",
    "gradegrad19 = grade_grad19.groupby(['Corp Grade 2019'])\n",
    "y_axis2019 = gradegrad19['Percent Change in Grad Rate'].mean()\n",
    "\n",
    "plt.title(\"Average Change in Grad Rate per School Grade A-F\")\n",
    "plt.suptitle(\"2019\")\n",
    "plt.xlabel(\"School Letter Grades\")\n",
    "plt.ylabel(\"Average Change in Grad Rate\")\n",
    "\n",
    "plt.bar(x_axis, y_axis2019, color='darkslategrey', alpha=0.5, align=\"center\")\n",
    "plt.xticks(tick_locations, grades)\n",
    "\n",
    "# Set the y limits of the current chart\n",
    "plt.ylim(0, 60)"
   ]
  },
  {
   "cell_type": "code",
   "execution_count": 64,
   "metadata": {},
   "outputs": [
    {
     "data": {
      "text/html": [
       "<div>\n",
       "<style scoped>\n",
       "    .dataframe tbody tr th:only-of-type {\n",
       "        vertical-align: middle;\n",
       "    }\n",
       "\n",
       "    .dataframe tbody tr th {\n",
       "        vertical-align: top;\n",
       "    }\n",
       "\n",
       "    .dataframe thead th {\n",
       "        text-align: right;\n",
       "    }\n",
       "</style>\n",
       "<table border=\"1\" class=\"dataframe\">\n",
       "  <thead>\n",
       "    <tr style=\"text-align: right;\">\n",
       "      <th></th>\n",
       "      <th>Corp ID</th>\n",
       "      <th>CORPORATION NAME</th>\n",
       "      <th>Corp Grade 2019</th>\n",
       "      <th>Corp Id</th>\n",
       "      <th>Cohort N</th>\n",
       "      <th>Grad N</th>\n",
       "      <th>State Grad Rate</th>\n",
       "      <th>Non-Waiver Grad N</th>\n",
       "      <th>State Non-Waiver Grad Rate</th>\n",
       "      <th>Percent Change in Grad Rate</th>\n",
       "    </tr>\n",
       "  </thead>\n",
       "  <tbody>\n",
       "    <tr>\n",
       "      <th>117</th>\n",
       "      <td>3640.0</td>\n",
       "      <td>Medora Community School Corporation</td>\n",
       "      <td>F</td>\n",
       "      <td>3640</td>\n",
       "      <td>20</td>\n",
       "      <td>16</td>\n",
       "      <td>80.00%</td>\n",
       "      <td>6</td>\n",
       "      <td>30.00%</td>\n",
       "      <td>62.500000</td>\n",
       "    </tr>\n",
       "    <tr>\n",
       "      <th>232</th>\n",
       "      <td>6795.0</td>\n",
       "      <td>Union School Corporation</td>\n",
       "      <td>F</td>\n",
       "      <td>6795</td>\n",
       "      <td>33</td>\n",
       "      <td>22</td>\n",
       "      <td>66.67%</td>\n",
       "      <td>12</td>\n",
       "      <td>36.36%</td>\n",
       "      <td>45.454545</td>\n",
       "    </tr>\n",
       "  </tbody>\n",
       "</table>\n",
       "</div>"
      ],
      "text/plain": [
       "     Corp ID                     CORPORATION NAME Corp Grade 2019  Corp Id  \\\n",
       "117   3640.0  Medora Community School Corporation               F     3640   \n",
       "232   6795.0             Union School Corporation               F     6795   \n",
       "\n",
       "     Cohort N  Grad N State Grad Rate  Non-Waiver Grad N  \\\n",
       "117        20      16          80.00%                  6   \n",
       "232        33      22          66.67%                 12   \n",
       "\n",
       "    State Non-Waiver Grad Rate  Percent Change in Grad Rate  \n",
       "117                     30.00%                    62.500000  \n",
       "232                     36.36%                    45.454545  "
      ]
     },
     "execution_count": 64,
     "metadata": {},
     "output_type": "execute_result"
    }
   ],
   "source": [
    "df19 = grade_grad19.loc[grade_grad19['Corp Grade 2019'] == 'F']\n",
    "df19.head()"
   ]
  },
  {
   "cell_type": "markdown",
   "metadata": {},
   "source": [
    "## Does the change in grad rate corellate with letter grade?"
   ]
  },
  {
   "cell_type": "code",
   "execution_count": 48,
   "metadata": {},
   "outputs": [
    {
     "data": {
      "text/html": [
       "<div>\n",
       "<style scoped>\n",
       "    .dataframe tbody tr th:only-of-type {\n",
       "        vertical-align: middle;\n",
       "    }\n",
       "\n",
       "    .dataframe tbody tr th {\n",
       "        vertical-align: top;\n",
       "    }\n",
       "\n",
       "    .dataframe thead th {\n",
       "        text-align: right;\n",
       "    }\n",
       "</style>\n",
       "<table border=\"1\" class=\"dataframe\">\n",
       "  <thead>\n",
       "    <tr style=\"text-align: right;\">\n",
       "      <th></th>\n",
       "      <th>Corp ID</th>\n",
       "      <th>CORPORATION NAME</th>\n",
       "      <th>Corp Grade 2015</th>\n",
       "      <th>Corp Id</th>\n",
       "      <th>Cohort N</th>\n",
       "      <th>Grad N</th>\n",
       "      <th>State Grad Rate</th>\n",
       "      <th>Non-Waiver Grad N</th>\n",
       "      <th>State Non-Waiver Grad Rate</th>\n",
       "      <th>Percent Change in Grad Rate</th>\n",
       "    </tr>\n",
       "  </thead>\n",
       "  <tbody>\n",
       "    <tr>\n",
       "      <th>0</th>\n",
       "      <td>15</td>\n",
       "      <td>Adams Central Community Schools</td>\n",
       "      <td>C</td>\n",
       "      <td>15</td>\n",
       "      <td>95</td>\n",
       "      <td>90</td>\n",
       "      <td>94.70%</td>\n",
       "      <td>87</td>\n",
       "      <td>91.60%</td>\n",
       "      <td>3.333333</td>\n",
       "    </tr>\n",
       "    <tr>\n",
       "      <th>1</th>\n",
       "      <td>5265</td>\n",
       "      <td>Alexandria Community School Corporation</td>\n",
       "      <td>C</td>\n",
       "      <td>5265</td>\n",
       "      <td>112</td>\n",
       "      <td>98</td>\n",
       "      <td>87.50%</td>\n",
       "      <td>97</td>\n",
       "      <td>86.60%</td>\n",
       "      <td>1.020408</td>\n",
       "    </tr>\n",
       "    <tr>\n",
       "      <th>2</th>\n",
       "      <td>5275</td>\n",
       "      <td>Anderson Community School Corporation</td>\n",
       "      <td>D</td>\n",
       "      <td>5275</td>\n",
       "      <td>394</td>\n",
       "      <td>353</td>\n",
       "      <td>89.60%</td>\n",
       "      <td>277</td>\n",
       "      <td>70.30%</td>\n",
       "      <td>21.529745</td>\n",
       "    </tr>\n",
       "    <tr>\n",
       "      <th>3</th>\n",
       "      <td>5470</td>\n",
       "      <td>Argos Community Schools</td>\n",
       "      <td>B</td>\n",
       "      <td>5470</td>\n",
       "      <td>46</td>\n",
       "      <td>34</td>\n",
       "      <td>73.90%</td>\n",
       "      <td>34</td>\n",
       "      <td>73.90%</td>\n",
       "      <td>0.000000</td>\n",
       "    </tr>\n",
       "    <tr>\n",
       "      <th>4</th>\n",
       "      <td>2435</td>\n",
       "      <td>Attica Consolidated School Corporation</td>\n",
       "      <td>D</td>\n",
       "      <td>2435</td>\n",
       "      <td>68</td>\n",
       "      <td>67</td>\n",
       "      <td>98.50%</td>\n",
       "      <td>64</td>\n",
       "      <td>94.10%</td>\n",
       "      <td>4.477612</td>\n",
       "    </tr>\n",
       "  </tbody>\n",
       "</table>\n",
       "</div>"
      ],
      "text/plain": [
       "   Corp ID                         CORPORATION NAME Corp Grade 2015  Corp Id  \\\n",
       "0       15          Adams Central Community Schools               C       15   \n",
       "1     5265  Alexandria Community School Corporation               C     5265   \n",
       "2     5275    Anderson Community School Corporation               D     5275   \n",
       "3     5470                  Argos Community Schools               B     5470   \n",
       "4     2435   Attica Consolidated School Corporation               D     2435   \n",
       "\n",
       "   Cohort N  Grad N State Grad Rate  Non-Waiver Grad N  \\\n",
       "0        95      90          94.70%                 87   \n",
       "1       112      98          87.50%                 97   \n",
       "2       394     353          89.60%                277   \n",
       "3        46      34          73.90%                 34   \n",
       "4        68      67          98.50%                 64   \n",
       "\n",
       "  State Non-Waiver Grad Rate  Percent Change in Grad Rate  \n",
       "0                     91.60%                     3.333333  \n",
       "1                     86.60%                     1.020408  \n",
       "2                     70.30%                    21.529745  \n",
       "3                     73.90%                     0.000000  \n",
       "4                     94.10%                     4.477612  "
      ]
     },
     "execution_count": 48,
     "metadata": {},
     "output_type": "execute_result"
    }
   ],
   "source": [
    "grade_grad15.head()"
   ]
  },
  {
   "cell_type": "code",
   "execution_count": 49,
   "metadata": {},
   "outputs": [
    {
     "data": {
      "image/png": "[encoded data removed]",
      "text/plain": [
       "<Figure size 432x288 with 1 Axes>"
      ]
     },
     "metadata": {
      "needs_background": "light"
     },
     "output_type": "display_data"
    }
   ],
   "source": [
    "# For the first example, determine which pairs of factors are correlated. \n",
    "plt.scatter(grade_grad15.iloc[:,2],grade_grad15.iloc[:,9])\n",
    "plt.xlabel('School Grade')\n",
    "plt.ylabel('Percent Change in Grad Rate')\n",
    "plt.show()"
   ]
  },
  {
   "cell_type": "code",
   "execution_count": 58,
   "metadata": {},
   "outputs": [
    {
     "data": {
      "text/html": [
       "<div>\n",
       "<style scoped>\n",
       "    .dataframe tbody tr th:only-of-type {\n",
       "        vertical-align: middle;\n",
       "    }\n",
       "\n",
       "    .dataframe tbody tr th {\n",
       "        vertical-align: top;\n",
       "    }\n",
       "\n",
       "    .dataframe thead th {\n",
       "        text-align: right;\n",
       "    }\n",
       "</style>\n",
       "<table border=\"1\" class=\"dataframe\">\n",
       "  <thead>\n",
       "    <tr style=\"text-align: right;\">\n",
       "      <th></th>\n",
       "      <th>Corp ID</th>\n",
       "      <th>CORPORATION NAME</th>\n",
       "      <th>Corp Grade 2015</th>\n",
       "      <th>Corp Id</th>\n",
       "      <th>Cohort N</th>\n",
       "      <th>Grad N</th>\n",
       "      <th>State Grad Rate</th>\n",
       "      <th>Non-Waiver Grad N</th>\n",
       "      <th>State Non-Waiver Grad Rate</th>\n",
       "      <th>Percent Change in Grad Rate</th>\n",
       "    </tr>\n",
       "  </thead>\n",
       "  <tbody>\n",
       "    <tr>\n",
       "      <th>5</th>\n",
       "      <td>3315</td>\n",
       "      <td>Avon Community School Corporation</td>\n",
       "      <td>A</td>\n",
       "      <td>3315</td>\n",
       "      <td>699</td>\n",
       "      <td>680</td>\n",
       "      <td>97.30%</td>\n",
       "      <td>644</td>\n",
       "      <td>92.10%</td>\n",
       "      <td>5.294118</td>\n",
       "    </tr>\n",
       "    <tr>\n",
       "      <th>6</th>\n",
       "      <td>1315</td>\n",
       "      <td>Barr-Reeve Community School Corporation</td>\n",
       "      <td>A</td>\n",
       "      <td>1315</td>\n",
       "      <td>54</td>\n",
       "      <td>54</td>\n",
       "      <td>100.00%</td>\n",
       "      <td>54</td>\n",
       "      <td>100.00%</td>\n",
       "      <td>0.000000</td>\n",
       "    </tr>\n",
       "    <tr>\n",
       "      <th>19</th>\n",
       "      <td>3305</td>\n",
       "      <td>Brownsburg Community School Corporation</td>\n",
       "      <td>A</td>\n",
       "      <td>3305</td>\n",
       "      <td>581</td>\n",
       "      <td>565</td>\n",
       "      <td>97.20%</td>\n",
       "      <td>551</td>\n",
       "      <td>94.80%</td>\n",
       "      <td>2.477876</td>\n",
       "    </tr>\n",
       "    <tr>\n",
       "      <th>23</th>\n",
       "      <td>3060</td>\n",
       "      <td>Carmel Clay Schools</td>\n",
       "      <td>A</td>\n",
       "      <td>3060</td>\n",
       "      <td>1161</td>\n",
       "      <td>1125</td>\n",
       "      <td>96.90%</td>\n",
       "      <td>1111</td>\n",
       "      <td>95.70%</td>\n",
       "      <td>1.244444</td>\n",
       "    </tr>\n",
       "    <tr>\n",
       "      <th>26</th>\n",
       "      <td>4205</td>\n",
       "      <td>Center Grove Community School Corporation</td>\n",
       "      <td>A</td>\n",
       "      <td>4205</td>\n",
       "      <td>597</td>\n",
       "      <td>552</td>\n",
       "      <td>92.50%</td>\n",
       "      <td>534</td>\n",
       "      <td>89.40%</td>\n",
       "      <td>3.260870</td>\n",
       "    </tr>\n",
       "  </tbody>\n",
       "</table>\n",
       "</div>"
      ],
      "text/plain": [
       "    Corp ID                           CORPORATION NAME Corp Grade 2015  \\\n",
       "5      3315          Avon Community School Corporation               A   \n",
       "6      1315    Barr-Reeve Community School Corporation               A   \n",
       "19     3305    Brownsburg Community School Corporation               A   \n",
       "23     3060                        Carmel Clay Schools               A   \n",
       "26     4205  Center Grove Community School Corporation               A   \n",
       "\n",
       "    Corp Id  Cohort N  Grad N State Grad Rate  Non-Waiver Grad N  \\\n",
       "5      3315       699     680          97.30%                644   \n",
       "6      1315        54      54         100.00%                 54   \n",
       "19     3305       581     565          97.20%                551   \n",
       "23     3060      1161    1125          96.90%               1111   \n",
       "26     4205       597     552          92.50%                534   \n",
       "\n",
       "   State Non-Waiver Grad Rate  Percent Change in Grad Rate  \n",
       "5                      92.10%                     5.294118  \n",
       "6                     100.00%                     0.000000  \n",
       "19                     94.80%                     2.477876  \n",
       "23                     95.70%                     1.244444  \n",
       "26                     89.40%                     3.260870  "
      ]
     },
     "execution_count": 58,
     "metadata": {},
     "output_type": "execute_result"
    }
   ],
   "source": [
    "a_meanchange = grade_grad15.loc[grade_grad15['Corp Grade 2015'] == 'A']\n",
    "a_meanchange.head()"
   ]
  },
  {
   "cell_type": "code",
   "execution_count": 51,
   "metadata": {},
   "outputs": [
    {
     "ename": "TypeError",
     "evalue": "unsupported operand type(s) for /: 'str' and 'int'",
     "output_type": "error",
     "traceback": [
      "\u001b[1;31m---------------------------------------------------------------------------\u001b[0m",
      "\u001b[1;31mTypeError\u001b[0m                                 Traceback (most recent call last)",
      "\u001b[1;32m<ipython-input-51-cda115f663e5>\u001b[0m in \u001b[0;36m<module>\u001b[1;34m\u001b[0m\n\u001b[0;32m      5\u001b[0m \u001b[1;33m\u001b[0m\u001b[0m\n\u001b[0;32m      6\u001b[0m \u001b[1;31m#Lingear regression equation: it's best to go to the documentation every time I use this.\u001b[0m\u001b[1;33m\u001b[0m\u001b[1;33m\u001b[0m\u001b[1;33m\u001b[0m\u001b[0m\n\u001b[1;32m----> 7\u001b[1;33m \u001b[1;33m(\u001b[0m\u001b[0mslope\u001b[0m\u001b[1;33m,\u001b[0m \u001b[0mintercept\u001b[0m\u001b[1;33m,\u001b[0m \u001b[0mrvalue\u001b[0m\u001b[1;33m,\u001b[0m \u001b[0mpvalue\u001b[0m\u001b[1;33m,\u001b[0m \u001b[0mstderr\u001b[0m\u001b[1;33m)\u001b[0m \u001b[1;33m=\u001b[0m \u001b[0mlinregress\u001b[0m\u001b[1;33m(\u001b[0m\u001b[0mx_values\u001b[0m\u001b[1;33m,\u001b[0m \u001b[0my_values\u001b[0m\u001b[1;33m)\u001b[0m\u001b[1;33m\u001b[0m\u001b[1;33m\u001b[0m\u001b[0m\n\u001b[0m\u001b[0;32m      8\u001b[0m \u001b[1;31m# y = mx + b\u001b[0m\u001b[1;33m\u001b[0m\u001b[1;33m\u001b[0m\u001b[1;33m\u001b[0m\u001b[0m\n\u001b[0;32m      9\u001b[0m \u001b[0mregress_values\u001b[0m \u001b[1;33m=\u001b[0m \u001b[0mx_values\u001b[0m \u001b[1;33m*\u001b[0m \u001b[0mslope\u001b[0m \u001b[1;33m+\u001b[0m \u001b[0mintercept\u001b[0m\u001b[1;33m\u001b[0m\u001b[1;33m\u001b[0m\u001b[0m\n",
      "\u001b[1;32m~\\anaconda3\\envs\\PythonData\\lib\\site-packages\\scipy\\stats\\_stats_mstats_common.py\u001b[0m in \u001b[0;36mlinregress\u001b[1;34m(x, y)\u001b[0m\n\u001b[0;32m    110\u001b[0m \u001b[1;33m\u001b[0m\u001b[0m\n\u001b[0;32m    111\u001b[0m     \u001b[0mn\u001b[0m \u001b[1;33m=\u001b[0m \u001b[0mlen\u001b[0m\u001b[1;33m(\u001b[0m\u001b[0mx\u001b[0m\u001b[1;33m)\u001b[0m\u001b[1;33m\u001b[0m\u001b[1;33m\u001b[0m\u001b[0m\n\u001b[1;32m--> 112\u001b[1;33m     \u001b[0mxmean\u001b[0m \u001b[1;33m=\u001b[0m \u001b[0mnp\u001b[0m\u001b[1;33m.\u001b[0m\u001b[0mmean\u001b[0m\u001b[1;33m(\u001b[0m\u001b[0mx\u001b[0m\u001b[1;33m,\u001b[0m \u001b[1;32mNone\u001b[0m\u001b[1;33m)\u001b[0m\u001b[1;33m\u001b[0m\u001b[1;33m\u001b[0m\u001b[0m\n\u001b[0m\u001b[0;32m    113\u001b[0m     \u001b[0mymean\u001b[0m \u001b[1;33m=\u001b[0m \u001b[0mnp\u001b[0m\u001b[1;33m.\u001b[0m\u001b[0mmean\u001b[0m\u001b[1;33m(\u001b[0m\u001b[0my\u001b[0m\u001b[1;33m,\u001b[0m \u001b[1;32mNone\u001b[0m\u001b[1;33m)\u001b[0m\u001b[1;33m\u001b[0m\u001b[1;33m\u001b[0m\u001b[0m\n\u001b[0;32m    114\u001b[0m \u001b[1;33m\u001b[0m\u001b[0m\n",
      "\u001b[1;32m<__array_function__ internals>\u001b[0m in \u001b[0;36mmean\u001b[1;34m(*args, **kwargs)\u001b[0m\n",
      "\u001b[1;32m~\\anaconda3\\envs\\PythonData\\lib\\site-packages\\numpy\\core\\fromnumeric.py\u001b[0m in \u001b[0;36mmean\u001b[1;34m(a, axis, dtype, out, keepdims)\u001b[0m\n\u001b[0;32m   3333\u001b[0m \u001b[1;33m\u001b[0m\u001b[0m\n\u001b[0;32m   3334\u001b[0m     return _methods._mean(a, axis=axis, dtype=dtype,\n\u001b[1;32m-> 3335\u001b[1;33m                           out=out, **kwargs)\n\u001b[0m\u001b[0;32m   3336\u001b[0m \u001b[1;33m\u001b[0m\u001b[0m\n\u001b[0;32m   3337\u001b[0m \u001b[1;33m\u001b[0m\u001b[0m\n",
      "\u001b[1;32m~\\anaconda3\\envs\\PythonData\\lib\\site-packages\\numpy\\core\\_methods.py\u001b[0m in \u001b[0;36m_mean\u001b[1;34m(a, axis, dtype, out, keepdims)\u001b[0m\n\u001b[0;32m    161\u001b[0m             \u001b[0mret\u001b[0m \u001b[1;33m=\u001b[0m \u001b[0mret\u001b[0m\u001b[1;33m.\u001b[0m\u001b[0mdtype\u001b[0m\u001b[1;33m.\u001b[0m\u001b[0mtype\u001b[0m\u001b[1;33m(\u001b[0m\u001b[0mret\u001b[0m \u001b[1;33m/\u001b[0m \u001b[0mrcount\u001b[0m\u001b[1;33m)\u001b[0m\u001b[1;33m\u001b[0m\u001b[1;33m\u001b[0m\u001b[0m\n\u001b[0;32m    162\u001b[0m     \u001b[1;32melse\u001b[0m\u001b[1;33m:\u001b[0m\u001b[1;33m\u001b[0m\u001b[1;33m\u001b[0m\u001b[0m\n\u001b[1;32m--> 163\u001b[1;33m         \u001b[0mret\u001b[0m \u001b[1;33m=\u001b[0m \u001b[0mret\u001b[0m \u001b[1;33m/\u001b[0m \u001b[0mrcount\u001b[0m\u001b[1;33m\u001b[0m\u001b[1;33m\u001b[0m\u001b[0m\n\u001b[0m\u001b[0;32m    164\u001b[0m \u001b[1;33m\u001b[0m\u001b[0m\n\u001b[0;32m    165\u001b[0m     \u001b[1;32mreturn\u001b[0m \u001b[0mret\u001b[0m\u001b[1;33m\u001b[0m\u001b[1;33m\u001b[0m\u001b[0m\n",
      "\u001b[1;31mTypeError\u001b[0m: unsupported operand type(s) for /: 'str' and 'int'"
     ]
    }
   ],
   "source": [
    "# For the first example, determine which pairs of factors are correlated. \n",
    "\n",
    "a_meanchange = grade_grad15.loc['A',:]\n",
    "b_meanchange = [25, 32, 34, 20, 25]\n",
    "\n",
    "x = np.arange(len(labels))  # the label locations\n",
    "width = 0.35  # the width of the bars\n",
    "\n",
    "fig, ax = plt.subplots()\n",
    "rects1 = ax.bar(x - width/2, men_means, width, label='Men')\n",
    "rects2 = ax.bar(x + width/2, women_means, width, label='Women')\n",
    "\n",
    "# Add some text for labels, title and custom x-axis tick labels, etc.\n",
    "ax.set_ylabel('Scores')\n",
    "ax.set_title('Scores by group and gender')\n",
    "ax.set_xticks(x)\n",
    "ax.set_xticklabels(labels)\n",
    "ax.legend()\n",
    "\n",
    "\n",
    "def autolabel(rects):\n",
    "    \"\"\"Attach a text label above each bar in *rects*, displaying its height.\"\"\"\n",
    "    for rect in rects:\n",
    "        height = rect.get_height()\n",
    "        ax.annotate('{}'.format(height),\n",
    "                    xy=(rect.get_x() + rect.get_width() / 2, height),\n",
    "                    xytext=(0, 3),  # 3 points vertical offset\n",
    "                    textcoords=\"offset points\",\n",
    "                    ha='center', va='bottom')\n",
    "\n",
    "\n",
    "autolabel(rects1)\n",
    "autolabel(rects2)\n",
    "\n",
    "fig.tight_layout()\n",
    "\n",
    "plt.show()"
   ]
  },
  {
   "cell_type": "code",
   "execution_count": null,
   "metadata": {},
   "outputs": [],
   "source": []
  }
 ],
 "metadata": {
  "kernelspec": {
   "display_name": "Python [conda env:PythonData] *",
   "language": "python",
   "name": "conda-env-PythonData-py"
  },
  "language_info": {
   "codemirror_mode": {
    "name": "ipython",
    "version": 3
   },
   "file_extension": ".py",
   "mimetype": "text/x-python",
   "name": "python",
   "nbconvert_exporter": "python",
   "pygments_lexer": "ipython3",
   "version": "3.6.10"
  }
 },
 "nbformat": 4,
 "nbformat_minor": 4
}
