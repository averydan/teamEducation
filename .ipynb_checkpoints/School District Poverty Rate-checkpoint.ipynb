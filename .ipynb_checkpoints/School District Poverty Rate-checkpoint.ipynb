{
 "cells": [
  {
   "cell_type": "code",
   "execution_count": 1,
   "metadata": {},
   "outputs": [],
   "source": [
    "import pandas as pd\n"
   ]
  },
  {
   "cell_type": "code",
   "execution_count": 7,
   "metadata": {},
   "outputs": [
    {
     "data": {
      "text/html": [
       "<div>\n",
       "<style scoped>\n",
       "    .dataframe tbody tr th:only-of-type {\n",
       "        vertical-align: middle;\n",
       "    }\n",
       "\n",
       "    .dataframe tbody tr th {\n",
       "        vertical-align: top;\n",
       "    }\n",
       "\n",
       "    .dataframe thead th {\n",
       "        text-align: right;\n",
       "    }\n",
       "</style>\n",
       "<table border=\"1\" class=\"dataframe\">\n",
       "  <thead>\n",
       "    <tr style=\"text-align: right;\">\n",
       "      <th></th>\n",
       "      <th>Label</th>\n",
       "      <th>Under 5 years</th>\n",
       "      <th>5 to 17 years</th>\n",
       "      <th>Related children of householder under 18 years</th>\n",
       "    </tr>\n",
       "  </thead>\n",
       "  <tbody>\n",
       "    <tr>\n",
       "      <th>0</th>\n",
       "      <td>New Albany-Floyd County Consolidated Schools, ...</td>\n",
       "      <td>5.30%</td>\n",
       "      <td>18.00%</td>\n",
       "      <td>13.70%</td>\n",
       "    </tr>\n",
       "    <tr>\n",
       "      <th>1</th>\n",
       "      <td>Penn-Harris-Madison School Corporation, Indian...</td>\n",
       "      <td>3.80%</td>\n",
       "      <td>4.10%</td>\n",
       "      <td>4.00%</td>\n",
       "    </tr>\n",
       "    <tr>\n",
       "      <th>2</th>\n",
       "      <td>Hammond School City, Indiana!!Percent below po...</td>\n",
       "      <td>45.20%</td>\n",
       "      <td>46.10%</td>\n",
       "      <td>45.80%</td>\n",
       "    </tr>\n",
       "    <tr>\n",
       "      <th>3</th>\n",
       "      <td>South Bend Community School Corporation, India...</td>\n",
       "      <td>27.00%</td>\n",
       "      <td>21.70%</td>\n",
       "      <td>23.00%</td>\n",
       "    </tr>\n",
       "    <tr>\n",
       "      <th>4</th>\n",
       "      <td>Hamilton Southeastern Schools, Indiana!!Percen...</td>\n",
       "      <td>6.80%</td>\n",
       "      <td>7.80%</td>\n",
       "      <td>7.00%</td>\n",
       "    </tr>\n",
       "  </tbody>\n",
       "</table>\n",
       "</div>"
      ],
      "text/plain": [
       "                                               Label  \\\n",
       "0  New Albany-Floyd County Consolidated Schools, ...   \n",
       "1  Penn-Harris-Madison School Corporation, Indian...   \n",
       "2  Hammond School City, Indiana!!Percent below po...   \n",
       "3  South Bend Community School Corporation, India...   \n",
       "4  Hamilton Southeastern Schools, Indiana!!Percen...   \n",
       "\n",
       "              Under 5 years             5 to 17 years  \\\n",
       "0                     5.30%                    18.00%   \n",
       "1                     3.80%                     4.10%   \n",
       "2                    45.20%                    46.10%   \n",
       "3                    27.00%                    21.70%   \n",
       "4                     6.80%                     7.80%   \n",
       "\n",
       "              Related children of householder under 18 years  \n",
       "0                                             13.70%          \n",
       "1                                              4.00%          \n",
       "2                                             45.80%          \n",
       "3                                             23.00%          \n",
       "4                                              7.00%          "
      ]
     },
     "execution_count": 7,
     "metadata": {},
     "output_type": "execute_result"
    }
   ],
   "source": [
    "poverty_rate_2019 = pd.read_csv('Resources/ACSST1Y2019.csv')\n",
    "poverty_rate_2018 = pd.read_csv('Resources/ACSST1Y2018.csv')\n",
    "poverty_rate_2017 = pd.read_csv('Resources/ACSST1Y2017.csv')\n",
    "poverty_rate_2016 = pd.read_csv('Resources/ACSST1Y2016.csv')\n",
    "poverty_rate_2015 = pd.read_csv('Resources/ACSST1Y2015.csv')\n",
    "\n",
    "poverty_rate_2018.head()"
   ]
  },
  {
   "cell_type": "code",
   "execution_count": null,
   "metadata": {},
   "outputs": [],
   "source": []
  }
 ],
 "metadata": {
  "kernelspec": {
   "display_name": "Python [conda env:PythonData] *",
   "language": "python",
   "name": "conda-env-PythonData-py"
  },
  "language_info": {
   "codemirror_mode": {
    "name": "ipython",
    "version": 3
   },
   "file_extension": ".py",
   "mimetype": "text/x-python",
   "name": "python",
   "nbconvert_exporter": "python",
   "pygments_lexer": "ipython3",
   "version": "3.6.10"
  }
 },
 "nbformat": 4,
 "nbformat_minor": 4
}
