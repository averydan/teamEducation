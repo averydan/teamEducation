{
 "cells": [
  {
   "cell_type": "markdown",
   "metadata": {},
   "source": [
    "# Indiana High School Graduation Rates Study"
   ]
  },
  {
   "cell_type": "markdown",
   "metadata": {},
   "source": [
    "This study digs into the graduation rates in Indiana high schools by separating out those students who received diplomas verses those who received waivers. We'll examine the relationships between diploma rates and federal school grade; diploma rates and school size; diploma rates and school attendance; and any trends and outliers that appear in the data."
   ]
  },
  {
   "cell_type": "code",
   "execution_count": 2,
   "metadata": {},
   "outputs": [],
   "source": [
    "#Dependencies\n",
    "import pandas as pd"
   ]
  },
  {
   "cell_type": "code",
   "execution_count": 13,
   "metadata": {},
   "outputs": [
    {
     "data": {
      "text/html": [
       "<div>\n",
       "<style scoped>\n",
       "    .dataframe tbody tr th:only-of-type {\n",
       "        vertical-align: middle;\n",
       "    }\n",
       "\n",
       "    .dataframe tbody tr th {\n",
       "        vertical-align: top;\n",
       "    }\n",
       "\n",
       "    .dataframe thead th {\n",
       "        text-align: right;\n",
       "    }\n",
       "</style>\n",
       "<table border=\"1\" class=\"dataframe\">\n",
       "  <thead>\n",
       "    <tr style=\"text-align: right;\">\n",
       "      <th></th>\n",
       "      <th>Corp ID</th>\n",
       "      <th>Corp name</th>\n",
       "      <th>Sch ID</th>\n",
       "      <th>School Name</th>\n",
       "      <th>County</th>\n",
       "      <th>Model</th>\n",
       "      <th>Sub_EMS_Model</th>\n",
       "      <th>Sub_HS_Model</th>\n",
       "      <th>Commission Category</th>\n",
       "      <th>Choice</th>\n",
       "      <th>Sch Grade 2015</th>\n",
       "      <th>Sch Grade 2014</th>\n",
       "      <th>Sch Grade 2013</th>\n",
       "      <th>Sch Grade 2012</th>\n",
       "      <th>Sch Grade 2011</th>\n",
       "      <th>Sch Grade 2010</th>\n",
       "      <th>Sch Grade 2008</th>\n",
       "      <th>Sch Grade 2007</th>\n",
       "      <th>Sch Grade 2006</th>\n",
       "      <th>Sch Grade 2005</th>\n",
       "    </tr>\n",
       "  </thead>\n",
       "  <tbody>\n",
       "    <tr>\n",
       "      <th>0</th>\n",
       "      <td>15</td>\n",
       "      <td>Adams Central Community Schools</td>\n",
       "      <td>0013</td>\n",
       "      <td>Adams Central Middle School</td>\n",
       "      <td>Adams</td>\n",
       "      <td>EMS</td>\n",
       "      <td>NaN</td>\n",
       "      <td>NaN</td>\n",
       "      <td>State Accredited</td>\n",
       "      <td>0</td>\n",
       "      <td>B</td>\n",
       "      <td>B</td>\n",
       "      <td>A</td>\n",
       "      <td>B</td>\n",
       "      <td>B</td>\n",
       "      <td>A</td>\n",
       "      <td>B</td>\n",
       "      <td>A</td>\n",
       "      <td>B</td>\n",
       "      <td>A</td>\n",
       "    </tr>\n",
       "    <tr>\n",
       "      <th>1</th>\n",
       "      <td>15</td>\n",
       "      <td>Adams Central Community Schools</td>\n",
       "      <td>0020</td>\n",
       "      <td>Adams Central Elementary School</td>\n",
       "      <td>Adams</td>\n",
       "      <td>EMS</td>\n",
       "      <td>NaN</td>\n",
       "      <td>NaN</td>\n",
       "      <td>State Accredited</td>\n",
       "      <td>0</td>\n",
       "      <td>A</td>\n",
       "      <td>A</td>\n",
       "      <td>A</td>\n",
       "      <td>A</td>\n",
       "      <td>A</td>\n",
       "      <td>A</td>\n",
       "      <td>B</td>\n",
       "      <td>A</td>\n",
       "      <td>A</td>\n",
       "      <td>A</td>\n",
       "    </tr>\n",
       "    <tr>\n",
       "      <th>2</th>\n",
       "      <td>15</td>\n",
       "      <td>Adams Central Community Schools</td>\n",
       "      <td>0021</td>\n",
       "      <td>Adams Central High School</td>\n",
       "      <td>Adams</td>\n",
       "      <td>HS</td>\n",
       "      <td>NaN</td>\n",
       "      <td>NaN</td>\n",
       "      <td>State Accredited</td>\n",
       "      <td>0</td>\n",
       "      <td>A</td>\n",
       "      <td>A</td>\n",
       "      <td>A</td>\n",
       "      <td>A</td>\n",
       "      <td>A</td>\n",
       "      <td>B</td>\n",
       "      <td>A</td>\n",
       "      <td>A</td>\n",
       "      <td>D</td>\n",
       "      <td>C</td>\n",
       "    </tr>\n",
       "    <tr>\n",
       "      <th>3</th>\n",
       "      <td>25</td>\n",
       "      <td>North Adams Community Schools</td>\n",
       "      <td>0029</td>\n",
       "      <td>Bellmont Senior High School</td>\n",
       "      <td>Adams</td>\n",
       "      <td>HS</td>\n",
       "      <td>NaN</td>\n",
       "      <td>NaN</td>\n",
       "      <td>State Accredited</td>\n",
       "      <td>0</td>\n",
       "      <td>B</td>\n",
       "      <td>B</td>\n",
       "      <td>A</td>\n",
       "      <td>A</td>\n",
       "      <td>C</td>\n",
       "      <td>C</td>\n",
       "      <td>B</td>\n",
       "      <td>D</td>\n",
       "      <td>D</td>\n",
       "      <td>D</td>\n",
       "    </tr>\n",
       "    <tr>\n",
       "      <th>4</th>\n",
       "      <td>25</td>\n",
       "      <td>North Adams Community Schools</td>\n",
       "      <td>0033</td>\n",
       "      <td>Bellmont Middle School</td>\n",
       "      <td>Adams</td>\n",
       "      <td>EMS</td>\n",
       "      <td>NaN</td>\n",
       "      <td>NaN</td>\n",
       "      <td>State Accredited</td>\n",
       "      <td>0</td>\n",
       "      <td>A</td>\n",
       "      <td>A</td>\n",
       "      <td>B</td>\n",
       "      <td>B</td>\n",
       "      <td>C</td>\n",
       "      <td>C</td>\n",
       "      <td>D</td>\n",
       "      <td>D</td>\n",
       "      <td>D</td>\n",
       "      <td>C</td>\n",
       "    </tr>\n",
       "  </tbody>\n",
       "</table>\n",
       "</div>"
      ],
      "text/plain": [
       "   Corp ID                        Corp name Sch ID  \\\n",
       "0       15  Adams Central Community Schools   0013   \n",
       "1       15  Adams Central Community Schools   0020   \n",
       "2       15  Adams Central Community Schools   0021   \n",
       "3       25    North Adams Community Schools   0029   \n",
       "4       25    North Adams Community Schools   0033   \n",
       "\n",
       "                       School Name County Model Sub_EMS_Model Sub_HS_Model  \\\n",
       "0      Adams Central Middle School  Adams   EMS           NaN          NaN   \n",
       "1  Adams Central Elementary School  Adams   EMS           NaN          NaN   \n",
       "2        Adams Central High School  Adams    HS           NaN          NaN   \n",
       "3      Bellmont Senior High School  Adams    HS           NaN          NaN   \n",
       "4           Bellmont Middle School  Adams   EMS           NaN          NaN   \n",
       "\n",
       "  Commission Category  Choice Sch Grade 2015 Sch Grade 2014 Sch Grade 2013  \\\n",
       "0    State Accredited       0              B              B              A   \n",
       "1    State Accredited       0              A              A              A   \n",
       "2    State Accredited       0              A              A              A   \n",
       "3    State Accredited       0              B              B              A   \n",
       "4    State Accredited       0              A              A              B   \n",
       "\n",
       "  Sch Grade 2012 Sch Grade 2011 Sch Grade 2010 Sch Grade 2008 Sch Grade 2007  \\\n",
       "0              B              B              A              B              A   \n",
       "1              A              A              A              B              A   \n",
       "2              A              A              B              A              A   \n",
       "3              A              C              C              B              D   \n",
       "4              B              C              C              D              D   \n",
       "\n",
       "  Sch Grade 2006 Sch Grade 2005  \n",
       "0              B              A  \n",
       "1              A              A  \n",
       "2              D              C  \n",
       "3              D              D  \n",
       "4              D              C  "
      ]
     },
     "execution_count": 13,
     "metadata": {},
     "output_type": "execute_result"
    }
   ],
   "source": [
    "# Read csv files with school scores from state of IN 2015, 2016, 2017, 2018, and2019. \n",
    "school_grade2015 = pd.read_csv('Resources/A-F_IN_school_grades2015.csv')\n",
    "school_grade2016 = pd.read_csv('Resources/A-F_IN_school_grades2016.csv')\n",
    "school_grade2017 = pd.read_csv('Resources/A-F_IN_school_grades2017.csv')\n",
    "school_grade2018 = pd.read_csv('Resources/A-F_IN_school_grades2018.csv')\n",
    "school_grade2019 = pd.read_csv('Resources/A-F_IN_school_grades2019.csv')\n",
    "school_grade2015.head()"
   ]
  },
  {
   "cell_type": "code",
   "execution_count": 11,
   "metadata": {},
   "outputs": [
    {
     "data": {
      "text/html": [
       "<div>\n",
       "<style scoped>\n",
       "    .dataframe tbody tr th:only-of-type {\n",
       "        vertical-align: middle;\n",
       "    }\n",
       "\n",
       "    .dataframe tbody tr th {\n",
       "        vertical-align: top;\n",
       "    }\n",
       "\n",
       "    .dataframe thead th {\n",
       "        text-align: right;\n",
       "    }\n",
       "</style>\n",
       "<table border=\"1\" class=\"dataframe\">\n",
       "  <thead>\n",
       "    <tr style=\"text-align: right;\">\n",
       "      <th></th>\n",
       "      <th>IDOE_CORPORATION_ID</th>\n",
       "      <th>CORPORATION_NAME</th>\n",
       "      <th>IDOE_SCHOOL_ID</th>\n",
       "      <th>SCHOOL_NAME</th>\n",
       "      <th>2016 Grade</th>\n",
       "    </tr>\n",
       "  </thead>\n",
       "  <tbody>\n",
       "    <tr>\n",
       "      <th>0</th>\n",
       "      <td>15</td>\n",
       "      <td>Adams Central Community Schools</td>\n",
       "      <td>13</td>\n",
       "      <td>Adams Central Middle School</td>\n",
       "      <td>B</td>\n",
       "    </tr>\n",
       "    <tr>\n",
       "      <th>1</th>\n",
       "      <td>15</td>\n",
       "      <td>Adams Central Community Schools</td>\n",
       "      <td>20</td>\n",
       "      <td>Adams Central Elementary School</td>\n",
       "      <td>B</td>\n",
       "    </tr>\n",
       "    <tr>\n",
       "      <th>2</th>\n",
       "      <td>15</td>\n",
       "      <td>Adams Central Community Schools</td>\n",
       "      <td>21</td>\n",
       "      <td>Adams Central High School</td>\n",
       "      <td>B</td>\n",
       "    </tr>\n",
       "    <tr>\n",
       "      <th>3</th>\n",
       "      <td>25</td>\n",
       "      <td>North Adams Community Schools</td>\n",
       "      <td>29</td>\n",
       "      <td>Bellmont Senior High School</td>\n",
       "      <td>A</td>\n",
       "    </tr>\n",
       "    <tr>\n",
       "      <th>4</th>\n",
       "      <td>25</td>\n",
       "      <td>North Adams Community Schools</td>\n",
       "      <td>33</td>\n",
       "      <td>Bellmont Middle School</td>\n",
       "      <td>C</td>\n",
       "    </tr>\n",
       "  </tbody>\n",
       "</table>\n",
       "</div>"
      ],
      "text/plain": [
       "   IDOE_CORPORATION_ID                 CORPORATION_NAME  IDOE_SCHOOL_ID  \\\n",
       "0                   15  Adams Central Community Schools              13   \n",
       "1                   15  Adams Central Community Schools              20   \n",
       "2                   15  Adams Central Community Schools              21   \n",
       "3                   25    North Adams Community Schools              29   \n",
       "4                   25    North Adams Community Schools              33   \n",
       "\n",
       "                       SCHOOL_NAME 2016 Grade  \n",
       "0      Adams Central Middle School          B  \n",
       "1  Adams Central Elementary School          B  \n",
       "2        Adams Central High School          B  \n",
       "3      Bellmont Senior High School          A  \n",
       "4           Bellmont Middle School          C  "
      ]
     },
     "execution_count": 11,
     "metadata": {},
     "output_type": "execute_result"
    }
   ],
   "source": [
    "# 2016 only reports letter grade, no explinations\n",
    "school_grade2016.head()"
   ]
  },
  {
   "cell_type": "code",
   "execution_count": 15,
   "metadata": {},
   "outputs": [
    {
     "data": {
      "text/plain": [
       "Index(['Corp ID', 'Corp name', 'Sch ID', 'School Name', 'County', 'Model',\n",
       "       'Sub_EMS_Model', 'Sub_HS_Model', 'Commission Category', 'Choice',\n",
       "       'Sch Grade 2015', 'Sch Grade 2014', 'Sch Grade 2013', 'Sch Grade 2012',\n",
       "       'Sch Grade 2011', 'Sch Grade 2010', 'Sch Grade 2008', 'Sch Grade 2007',\n",
       "       'Sch Grade 2006', 'Sch Grade 2005'],\n",
       "      dtype='object')"
      ]
     },
     "execution_count": 15,
     "metadata": {},
     "output_type": "execute_result"
    }
   ],
   "source": [
    "school_grade2015.columns"
   ]
  },
  {
   "cell_type": "code",
   "execution_count": 16,
   "metadata": {},
   "outputs": [
    {
     "data": {
      "text/plain": [
       "Index(['Corp', 'Corp Name', 'Performance Points\\n (3-8)',\n",
       "       'Performance Weight\\n (3-8)', 'Growth Points\\n (4-8)',\n",
       "       'Growth Weight\\n (4-8)', 'Performance Points\\n (10)',\n",
       "       'Performance Weight\\n (10)', 'Growth Points\\n (10-12)',\n",
       "       'Growth Weight\\n (10-12)', 'Mult. Measures Points\\n (12)',\n",
       "       'Mult. Measures Weight\\n (12)', 'Overall Points', 'Overall Grade'],\n",
       "      dtype='object')"
      ]
     },
     "execution_count": 16,
     "metadata": {},
     "output_type": "execute_result"
    }
   ],
   "source": [
    "school_grade2017.columns"
   ]
  },
  {
   "cell_type": "code",
   "execution_count": 17,
   "metadata": {},
   "outputs": [
    {
     "data": {
      "text/plain": [
       "Index(['Corp', 'Corp Name', 'School', 'School Name',\n",
       "       'Performance Points\\n (3-8)', 'Performance Weight\\n (3-8)',\n",
       "       'Growth Points\\n (4-8)', 'Growth Weight\\n (4-8)',\n",
       "       'Performance Points\\n (10)', 'Performance Weight\\n (10)',\n",
       "       'Growth Points\\n (10-12)', 'Growth Weight\\n (10-12)',\n",
       "       'Mult. Measures Points\\n (12)', 'Mult. Measures Weight\\n (12)',\n",
       "       'Overall Points', 'Overall Grade'],\n",
       "      dtype='object')"
      ]
     },
     "execution_count": 17,
     "metadata": {},
     "output_type": "execute_result"
    }
   ],
   "source": [
    "school_grade2018.columns"
   ]
  },
  {
   "cell_type": "code",
   "execution_count": 18,
   "metadata": {},
   "outputs": [
    {
     "data": {
      "text/plain": [
       "Index(['Corp', 'Corp Name', 'School', 'School Name',\n",
       "       '2019 Hold Harmless Grade'],\n",
       "      dtype='object')"
      ]
     },
     "execution_count": 18,
     "metadata": {},
     "output_type": "execute_result"
    }
   ],
   "source": [
    "school_grade2019.columns"
   ]
  },
  {
   "cell_type": "markdown",
   "metadata": {},
   "source": [
    "#### Before I clean: What information do we really want to clean from this? "
   ]
  }
 ],
 "metadata": {
  "kernelspec": {
   "display_name": "Python [conda env:PythonData] *",
   "language": "python",
   "name": "conda-env-PythonData-py"
  },
  "language_info": {
   "codemirror_mode": {
    "name": "ipython",
    "version": 3
   },
   "file_extension": ".py",
   "mimetype": "text/x-python",
   "name": "python",
   "nbconvert_exporter": "python",
   "pygments_lexer": "ipython3",
   "version": "3.6.10"
  }
 },
 "nbformat": 4,
 "nbformat_minor": 4
}
