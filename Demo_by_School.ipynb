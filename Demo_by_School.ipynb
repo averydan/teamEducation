{
 "cells": [
  {
   "cell_type": "markdown",
   "metadata": {},
   "source": [
    "# Indiana High School Graduation Rates Study"
   ]
  },
  {
   "cell_type": "markdown",
   "metadata": {},
   "source": [
    "This study digs into the graduation rates in Indiana high schools by separating out those students who received diplomas verses those who received waivers. We'll examine the relationships between diploma rates and federal school grade; diploma rates and school size; diploma rates and school attendance; and any trends and outliers that appear in the data."
   ]
  },
  {
   "cell_type": "code",
   "execution_count": 1,
   "metadata": {},
   "outputs": [],
   "source": [
    "#Dependencies\n",
    "import pandas as pd\n"
   ]
  },
  {
   "cell_type": "code",
   "execution_count": 2,
   "metadata": {},
   "outputs": [],
   "source": [
    "# Save file path to Excel files\n",
    "path_poverty = ('Resources/ussd17.xls')\n",
    "path_demo_school = ('Resources/demographics_public_schools.csv')"
   ]
  },
  {
   "cell_type": "code",
   "execution_count": 3,
   "metadata": {},
   "outputs": [
    {
     "name": "stdout",
     "output_type": "stream",
     "text": [
      "<bound method NDFrame.head of                       Table with column headers in row 3       Unnamed: 1  \\\n",
      "0      2017 Poverty Estimates for School districts   ...              NaN   \n",
      "1                                      State Postal Code  State FIPS Code   \n",
      "2                                                     AL               01   \n",
      "3                                                     AL               01   \n",
      "4                                                     AL               01   \n",
      "...                                                  ...              ...   \n",
      "13220                                                 WY               56   \n",
      "13221                                                 WY               56   \n",
      "13222                                                 WY               56   \n",
      "13223                                                 WY               56   \n",
      "13224                                                 PR               72   \n",
      "\n",
      "        Unnamed: 2                           Unnamed: 3  \\\n",
      "0              NaN                                  NaN   \n",
      "1      District ID                                 Name   \n",
      "2            00190       Alabaster City School District   \n",
      "3            00005     Albertville City School District   \n",
      "4            00030  Alexander City City School District   \n",
      "...            ...                                  ...   \n",
      "13220        06240    Washakie County School District 1   \n",
      "13221        05820    Washakie County School District 2   \n",
      "13222        04830      Weston County School District 1   \n",
      "13223        06090      Weston County School District 7   \n",
      "13224        00030                          Puerto Rico   \n",
      "\n",
      "                       Unnamed: 4                 Unnamed: 5  \\\n",
      "0                             NaN                        NaN   \n",
      "1      Estimated Total Population  Estimated Population 5-17   \n",
      "2                           34015                       6703   \n",
      "3                           21786                       4115   \n",
      "4                           17073                       2659   \n",
      "...                           ...                        ...   \n",
      "13220                        7372                       1382   \n",
      "13221                         692                         96   \n",
      "13222                        5465                        811   \n",
      "13223                        1462                        247   \n",
      "13224                     3337177                     508826   \n",
      "\n",
      "                                              Unnamed: 6  \n",
      "0                                                    NaN  \n",
      "1      Estimated number of relevant children 5 to 17 ...  \n",
      "2                                                    860  \n",
      "3                                                   1546  \n",
      "4                                                    832  \n",
      "...                                                  ...  \n",
      "13220                                                181  \n",
      "13221                                                  4  \n",
      "13222                                                118  \n",
      "13223                                                 12  \n",
      "13224                                             282524  \n",
      "\n",
      "[13225 rows x 7 columns]>\n"
     ]
    }
   ],
   "source": [
    "# to read Excel on poverty in US school districts file from census.gov\n",
    "poverty_df = pd.read_excel(path_poverty)\n",
    "print (poverty_df.head)  "
   ]
  },
  {
   "cell_type": "code",
   "execution_count": 4,
   "metadata": {},
   "outputs": [
    {
     "ename": "NameError",
     "evalue": "name 'schools_demo_df' is not defined",
     "output_type": "error",
     "traceback": [
      "\u001b[1;31m---------------------------------------------------------------------------\u001b[0m",
      "\u001b[1;31mNameError\u001b[0m                                 Traceback (most recent call last)",
      "\u001b[1;32m<ipython-input-4-be84bc942395>\u001b[0m in \u001b[0;36m<module>\u001b[1;34m\u001b[0m\n\u001b[0;32m      3\u001b[0m \u001b[1;33m\u001b[0m\u001b[0m\n\u001b[0;32m      4\u001b[0m \u001b[0mschool_demo_df\u001b[0m \u001b[1;33m=\u001b[0m \u001b[0mpd\u001b[0m\u001b[1;33m.\u001b[0m\u001b[0mread_csv\u001b[0m\u001b[1;33m(\u001b[0m\u001b[0mpath_demo_school\u001b[0m\u001b[1;33m)\u001b[0m\u001b[1;33m\u001b[0m\u001b[1;33m\u001b[0m\u001b[0m\n\u001b[1;32m----> 5\u001b[1;33m \u001b[0mprint\u001b[0m\u001b[1;33m(\u001b[0m\u001b[0mschools_demo_df\u001b[0m\u001b[1;33m)\u001b[0m\u001b[1;33m\u001b[0m\u001b[1;33m\u001b[0m\u001b[0m\n\u001b[0m",
      "\u001b[1;31mNameError\u001b[0m: name 'schools_demo_df' is not defined"
     ]
    }
   ],
   "source": [
    "# xlsx file for Indiana High Schools from doe.gov.in was not reading. I saved first page of workbook\n",
    "# as a csv file. Seems to work.\n",
    "\n",
    "school_demo_df = pd.read_csv(path_demo_school)\n",
    "print(schools_demo_df) \n"
   ]
  },
  {
   "cell_type": "code",
   "execution_count": null,
   "metadata": {},
   "outputs": [],
   "source": []
  },
  {
   "cell_type": "code",
   "execution_count": null,
   "metadata": {},
   "outputs": [],
   "source": []
  },
  {
   "cell_type": "code",
   "execution_count": null,
   "metadata": {},
   "outputs": [],
   "source": []
  }
 ],
 "metadata": {
  "kernelspec": {
   "display_name": "Python [conda env:PythonData] *",
   "language": "python",
   "name": "conda-env-PythonData-py"
  },
  "language_info": {
   "codemirror_mode": {
    "name": "ipython",
    "version": 3
   },
   "file_extension": ".py",
   "mimetype": "text/x-python",
   "name": "python",
   "nbconvert_exporter": "python",
   "pygments_lexer": "ipython3",
   "version": "3.6.10"
  }
 },
 "nbformat": 4,
 "nbformat_minor": 4
}
